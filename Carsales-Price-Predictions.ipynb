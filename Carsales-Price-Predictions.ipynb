{
 "cells": [
  {
   "cell_type": "markdown",
   "metadata": {},
   "source": [
    "# Introduction\n",
    "Rusty Bargain, a used car sales service, is developing a machine learning-powered app to help users quickly estimate the market value of their vehicles. With access to historical data — including technical specifications, trim levels, and prices — the goal is to build and evaluate models that can provide accurate and timely price predictions.\n",
    "\n",
    "This project focuses on three key performance aspects:\n",
    "\n",
    "- Prediction quality (measured using RMSE),\n",
    "\n",
    "- Prediction speed, and\n",
    "\n",
    "- Training time.\n",
    "\n",
    "Multiple regression models were trained and compared, including Linear Regression, Decision Tree, Random Forest (untuned and tuned), CatBoost, LightGBM, and XGBoost. After evaluating their performance, we identified the most effective approach for deployment in Rusty Bargain's pricing tool."
   ]
  },
  {
   "cell_type": "markdown",
   "metadata": {},
   "source": [
    "## Data preparation\n",
    "Before training the models, we performed essential data preparation to ensure the dataset was clean, consistent, and suitable for machine learning. The process began by loading and inspecting the dataset, which contained over 350,000 entries with 16 columns describing various aspects of vehicles.\n",
    "\n",
    "To prepare the data:\n",
    "\n",
    "- Irrelevant or potentially data-leaking columns like DateCreated, PostalCode, LastSeen, and NumberOfPictures were removed.\n",
    "\n",
    "- Missing values in NotRepaired and other categorical columns were filled with a placeholder ('unknown').\n",
    "\n",
    "- Rows with missing target values (Price) were dropped to avoid training issues.\n",
    "\n",
    "- Finally, the data was split into training and validation sets with a 75/25 ratio, setting a fixed random_state for reproducibility.\n",
    "\n",
    "This preparation ensures that the models receive consistent inputs and that evaluation results are reliable."
   ]
  },
  {
   "cell_type": "markdown",
   "metadata": {},
   "source": [
    "### Import Libraries And Read In Dataset"
   ]
  },
  {
   "cell_type": "code",
   "execution_count": 1,
   "metadata": {
    "trusted": true
   },
   "outputs": [],
   "source": [
    "# Import libraries\n",
    "import pandas as pd\n",
    "import numpy as np\n",
    "import matplotlib.pyplot as plt\n",
    "from sklearn.model_selection import train_test_split\n",
    "from sklearn.linear_model import LinearRegression\n",
    "from sklearn.tree import DecisionTreeRegressor\n",
    "from sklearn.ensemble import RandomForestRegressor\n",
    "from sklearn.metrics import mean_squared_error\n",
    "from sklearn.preprocessing import OneHotEncoder\n",
    "from sklearn.compose import ColumnTransformer\n",
    "from sklearn.pipeline import Pipeline\n",
    "from sklearn.metrics import mean_squared_error\n",
    "from catboost import CatBoostRegressor\n",
    "import lightgbm as lgb\n",
    "from xgboost import XGBRegressor\n",
    "from sklearn.model_selection import RandomizedSearchCV\n",
    "from scipy.stats import randint\n",
    "from sklearn.model_selection import GridSearchCV"
   ]
  },
  {
   "cell_type": "code",
   "execution_count": 2,
   "metadata": {
    "trusted": true
   },
   "outputs": [],
   "source": [
    "# Load dataset\n",
    "df = pd.read_csv('/datasets/car_data.csv')"
   ]
  },
  {
   "cell_type": "code",
   "execution_count": 3,
   "metadata": {
    "trusted": true
   },
   "outputs": [
    {
     "name": "stdout",
     "output_type": "stream",
     "text": [
      "(354369, 16)\n",
      "<class 'pandas.core.frame.DataFrame'>\n",
      "RangeIndex: 354369 entries, 0 to 354368\n",
      "Data columns (total 16 columns):\n",
      " #   Column             Non-Null Count   Dtype \n",
      "---  ------             --------------   ----- \n",
      " 0   DateCrawled        354369 non-null  object\n",
      " 1   Price              354369 non-null  int64 \n",
      " 2   VehicleType        316879 non-null  object\n",
      " 3   RegistrationYear   354369 non-null  int64 \n",
      " 4   Gearbox            334536 non-null  object\n",
      " 5   Power              354369 non-null  int64 \n",
      " 6   Model              334664 non-null  object\n",
      " 7   Mileage            354369 non-null  int64 \n",
      " 8   RegistrationMonth  354369 non-null  int64 \n",
      " 9   FuelType           321474 non-null  object\n",
      " 10  Brand              354369 non-null  object\n",
      " 11  NotRepaired        283215 non-null  object\n",
      " 12  DateCreated        354369 non-null  object\n",
      " 13  NumberOfPictures   354369 non-null  int64 \n",
      " 14  PostalCode         354369 non-null  int64 \n",
      " 15  LastSeen           354369 non-null  object\n",
      "dtypes: int64(7), object(9)\n",
      "memory usage: 43.3+ MB\n"
     ]
    },
    {
     "data": {
      "text/html": [
       "<div>\n",
       "<style scoped>\n",
       "    .dataframe tbody tr th:only-of-type {\n",
       "        vertical-align: middle;\n",
       "    }\n",
       "\n",
       "    .dataframe tbody tr th {\n",
       "        vertical-align: top;\n",
       "    }\n",
       "\n",
       "    .dataframe thead th {\n",
       "        text-align: right;\n",
       "    }\n",
       "</style>\n",
       "<table border=\"1\" class=\"dataframe\">\n",
       "  <thead>\n",
       "    <tr style=\"text-align: right;\">\n",
       "      <th></th>\n",
       "      <th>DateCrawled</th>\n",
       "      <th>Price</th>\n",
       "      <th>VehicleType</th>\n",
       "      <th>RegistrationYear</th>\n",
       "      <th>Gearbox</th>\n",
       "      <th>Power</th>\n",
       "      <th>Model</th>\n",
       "      <th>Mileage</th>\n",
       "      <th>RegistrationMonth</th>\n",
       "      <th>FuelType</th>\n",
       "      <th>Brand</th>\n",
       "      <th>NotRepaired</th>\n",
       "      <th>DateCreated</th>\n",
       "      <th>NumberOfPictures</th>\n",
       "      <th>PostalCode</th>\n",
       "      <th>LastSeen</th>\n",
       "    </tr>\n",
       "  </thead>\n",
       "  <tbody>\n",
       "    <tr>\n",
       "      <th>0</th>\n",
       "      <td>24/03/2016 11:52</td>\n",
       "      <td>480</td>\n",
       "      <td>NaN</td>\n",
       "      <td>1993</td>\n",
       "      <td>manual</td>\n",
       "      <td>0</td>\n",
       "      <td>golf</td>\n",
       "      <td>150000</td>\n",
       "      <td>0</td>\n",
       "      <td>petrol</td>\n",
       "      <td>volkswagen</td>\n",
       "      <td>NaN</td>\n",
       "      <td>24/03/2016 00:00</td>\n",
       "      <td>0</td>\n",
       "      <td>70435</td>\n",
       "      <td>07/04/2016 03:16</td>\n",
       "    </tr>\n",
       "    <tr>\n",
       "      <th>1</th>\n",
       "      <td>24/03/2016 10:58</td>\n",
       "      <td>18300</td>\n",
       "      <td>coupe</td>\n",
       "      <td>2011</td>\n",
       "      <td>manual</td>\n",
       "      <td>190</td>\n",
       "      <td>NaN</td>\n",
       "      <td>125000</td>\n",
       "      <td>5</td>\n",
       "      <td>gasoline</td>\n",
       "      <td>audi</td>\n",
       "      <td>yes</td>\n",
       "      <td>24/03/2016 00:00</td>\n",
       "      <td>0</td>\n",
       "      <td>66954</td>\n",
       "      <td>07/04/2016 01:46</td>\n",
       "    </tr>\n",
       "    <tr>\n",
       "      <th>2</th>\n",
       "      <td>14/03/2016 12:52</td>\n",
       "      <td>9800</td>\n",
       "      <td>suv</td>\n",
       "      <td>2004</td>\n",
       "      <td>auto</td>\n",
       "      <td>163</td>\n",
       "      <td>grand</td>\n",
       "      <td>125000</td>\n",
       "      <td>8</td>\n",
       "      <td>gasoline</td>\n",
       "      <td>jeep</td>\n",
       "      <td>NaN</td>\n",
       "      <td>14/03/2016 00:00</td>\n",
       "      <td>0</td>\n",
       "      <td>90480</td>\n",
       "      <td>05/04/2016 12:47</td>\n",
       "    </tr>\n",
       "    <tr>\n",
       "      <th>3</th>\n",
       "      <td>17/03/2016 16:54</td>\n",
       "      <td>1500</td>\n",
       "      <td>small</td>\n",
       "      <td>2001</td>\n",
       "      <td>manual</td>\n",
       "      <td>75</td>\n",
       "      <td>golf</td>\n",
       "      <td>150000</td>\n",
       "      <td>6</td>\n",
       "      <td>petrol</td>\n",
       "      <td>volkswagen</td>\n",
       "      <td>no</td>\n",
       "      <td>17/03/2016 00:00</td>\n",
       "      <td>0</td>\n",
       "      <td>91074</td>\n",
       "      <td>17/03/2016 17:40</td>\n",
       "    </tr>\n",
       "    <tr>\n",
       "      <th>4</th>\n",
       "      <td>31/03/2016 17:25</td>\n",
       "      <td>3600</td>\n",
       "      <td>small</td>\n",
       "      <td>2008</td>\n",
       "      <td>manual</td>\n",
       "      <td>69</td>\n",
       "      <td>fabia</td>\n",
       "      <td>90000</td>\n",
       "      <td>7</td>\n",
       "      <td>gasoline</td>\n",
       "      <td>skoda</td>\n",
       "      <td>no</td>\n",
       "      <td>31/03/2016 00:00</td>\n",
       "      <td>0</td>\n",
       "      <td>60437</td>\n",
       "      <td>06/04/2016 10:17</td>\n",
       "    </tr>\n",
       "  </tbody>\n",
       "</table>\n",
       "</div>"
      ],
      "text/plain": [
       "        DateCrawled  Price VehicleType  RegistrationYear Gearbox  Power  \\\n",
       "0  24/03/2016 11:52    480         NaN              1993  manual      0   \n",
       "1  24/03/2016 10:58  18300       coupe              2011  manual    190   \n",
       "2  14/03/2016 12:52   9800         suv              2004    auto    163   \n",
       "3  17/03/2016 16:54   1500       small              2001  manual     75   \n",
       "4  31/03/2016 17:25   3600       small              2008  manual     69   \n",
       "\n",
       "   Model  Mileage  RegistrationMonth  FuelType       Brand NotRepaired  \\\n",
       "0   golf   150000                  0    petrol  volkswagen         NaN   \n",
       "1    NaN   125000                  5  gasoline        audi         yes   \n",
       "2  grand   125000                  8  gasoline        jeep         NaN   \n",
       "3   golf   150000                  6    petrol  volkswagen          no   \n",
       "4  fabia    90000                  7  gasoline       skoda          no   \n",
       "\n",
       "        DateCreated  NumberOfPictures  PostalCode          LastSeen  \n",
       "0  24/03/2016 00:00                 0       70435  07/04/2016 03:16  \n",
       "1  24/03/2016 00:00                 0       66954  07/04/2016 01:46  \n",
       "2  14/03/2016 00:00                 0       90480  05/04/2016 12:47  \n",
       "3  17/03/2016 00:00                 0       91074  17/03/2016 17:40  \n",
       "4  31/03/2016 00:00                 0       60437  06/04/2016 10:17  "
      ]
     },
     "execution_count": 3,
     "metadata": {},
     "output_type": "execute_result"
    }
   ],
   "source": [
    "# Inspect data\n",
    "print(df.shape)\n",
    "df.info()\n",
    "df.head()"
   ]
  },
  {
   "cell_type": "markdown",
   "metadata": {},
   "source": [
    "### Remove Potentially Data-leaking Columns"
   ]
  },
  {
   "cell_type": "code",
   "execution_count": 4,
   "metadata": {
    "trusted": true
   },
   "outputs": [],
   "source": [
    "# Drop irrelevant or leak-prone columns\n",
    "df = df.drop(['DateCreated', 'PostalCode', 'LastSeen', 'NumberOfPictures'], axis=1)"
   ]
  },
  {
   "cell_type": "code",
   "execution_count": 5,
   "metadata": {
    "trusted": true
   },
   "outputs": [],
   "source": [
    "# Fill missing 'NotRepaired' values\n",
    "df['NotRepaired'] = df['NotRepaired'].fillna('unknown')\n",
    "\n",
    "# Drop rows with missing target\n",
    "df = df.dropna(subset=['Price'])"
   ]
  },
  {
   "cell_type": "code",
   "execution_count": 6,
   "metadata": {
    "trusted": true
   },
   "outputs": [
    {
     "name": "stdout",
     "output_type": "stream",
     "text": [
      "<class 'pandas.core.frame.DataFrame'>\n",
      "Int64Index: 354369 entries, 0 to 354368\n",
      "Data columns (total 12 columns):\n",
      " #   Column             Non-Null Count   Dtype \n",
      "---  ------             --------------   ----- \n",
      " 0   DateCrawled        354369 non-null  object\n",
      " 1   Price              354369 non-null  int64 \n",
      " 2   VehicleType        354369 non-null  object\n",
      " 3   RegistrationYear   354369 non-null  int64 \n",
      " 4   Gearbox            354369 non-null  object\n",
      " 5   Power              354369 non-null  int64 \n",
      " 6   Model              354369 non-null  object\n",
      " 7   Mileage            354369 non-null  int64 \n",
      " 8   RegistrationMonth  354369 non-null  int64 \n",
      " 9   FuelType           354369 non-null  object\n",
      " 10  Brand              354369 non-null  object\n",
      " 11  NotRepaired        354369 non-null  object\n",
      "dtypes: int64(5), object(7)\n",
      "memory usage: 35.1+ MB\n"
     ]
    }
   ],
   "source": [
    "# Identify object columns with missing values\n",
    "missing_cols = df.select_dtypes(include='object').columns[df.select_dtypes(include='object').isnull().any()]\n",
    "\n",
    "# Fill them with 'unknown'\n",
    "for col in missing_cols:\n",
    "    df[col] = df[col].fillna('unknown')\n",
    "\n",
    "# Confirm all missing values are handled\n",
    "df.info()"
   ]
  },
  {
   "cell_type": "markdown",
   "metadata": {},
   "source": [
    "### Split Data"
   ]
  },
  {
   "cell_type": "code",
   "execution_count": 7,
   "metadata": {
    "trusted": true
   },
   "outputs": [],
   "source": [
    "# Separate features and target\n",
    "X = df.drop('Price', axis=1)\n",
    "y = df['Price']"
   ]
  },
  {
   "cell_type": "code",
   "execution_count": 8,
   "metadata": {
    "trusted": true
   },
   "outputs": [],
   "source": [
    "# Split data\n",
    "X_train, X_valid, y_train, y_valid = train_test_split(\n",
    "    X, y, test_size=0.25, random_state=42\n",
    ")"
   ]
  },
  {
   "cell_type": "code",
   "execution_count": 9,
   "metadata": {
    "trusted": true
   },
   "outputs": [
    {
     "name": "stdout",
     "output_type": "stream",
     "text": [
      "Training size: (265776, 11)\n",
      "Validation size: (88593, 11)\n"
     ]
    }
   ],
   "source": [
    "# Review the result\n",
    "print(f'Training size: {X_train.shape}')\n",
    "print(f'Validation size: {X_valid.shape}')"
   ]
  },
  {
   "cell_type": "markdown",
   "metadata": {},
   "source": [
    "### Data Preparation: Conclusion\n",
    "In this section, we successfully prepared the dataset for modeling by handling missing values, dropping irrelevant or leakage-prone columns, and splitting the data for training and validation. We replaced missing categorical values with the label 'unknown', ensuring no null entries remained. The target variable (Price) was separated, and the data was split into training and validation sets using a 75/25 ratio. This clean, structured dataset provided a solid foundation for building reliable machine learning models in the next phase."
   ]
  },
  {
   "cell_type": "markdown",
   "metadata": {},
   "source": [
    "## Model training\n",
    "In this section, we trained a variety of regression models to predict the market value of used cars based on their technical and categorical features. The objective was to compare models in terms of three core criteria emphasized by the business stakeholders:\n",
    "\n",
    "- Prediction quality (measured using RMSE),\n",
    "\n",
    "- Prediction speed, and\n",
    "\n",
    "- Training time.\n",
    "\n",
    "We began with basic models such as Linear Regression and Decision Trees to establish a baseline, and then moved on to more complex and optimized algorithms including Random Forest (both untuned and tuned), CatBoost, LightGBM, and XGBoost. Each model was integrated into a pipeline for consistent preprocessing using OneHotEncoding or native categorical support where applicable. RMSE scores were recorded on a validation set for consistent evaluation."
   ]
  },
  {
   "cell_type": "markdown",
   "metadata": {},
   "source": [
    "### Linear Regression\n",
    "We began with a Linear Regression model to establish a simple baseline for car price prediction. Categorical features were one-hot encoded and combined with numerical inputs in a preprocessing pipeline."
   ]
  },
  {
   "cell_type": "code",
   "execution_count": 10,
   "metadata": {
    "trusted": true
   },
   "outputs": [
    {
     "name": "stdout",
     "output_type": "stream",
     "text": [
      "CPU times: user 609 ms, sys: 372 ms, total: 981 ms\n",
      "Wall time: 977 ms\n"
     ]
    },
    {
     "data": {
      "text/plain": [
       "Pipeline(steps=[('preprocessor',\n",
       "                 ColumnTransformer(remainder='passthrough',\n",
       "                                   transformers=[('cat',\n",
       "                                                  OneHotEncoder(handle_unknown='ignore'),\n",
       "                                                  ['DateCrawled', 'VehicleType',\n",
       "                                                   'Gearbox', 'Model',\n",
       "                                                   'FuelType', 'Brand',\n",
       "                                                   'NotRepaired'])])),\n",
       "                ('model', LinearRegression())])"
      ]
     },
     "execution_count": 10,
     "metadata": {},
     "output_type": "execute_result"
    }
   ],
   "source": [
    "# Identify categorical columns (object dtype)\n",
    "categorical_cols = X_train.select_dtypes(include='object').columns.tolist()\n",
    "\n",
    "# Column transformer to apply OneHotEncoding only to categorical columns\n",
    "preprocessor = ColumnTransformer(\n",
    "    transformers=[('cat', OneHotEncoder(handle_unknown='ignore'), categorical_cols)],\n",
    "    remainder='passthrough'\n",
    ")\n",
    "\n",
    "# Linear regression pipeline\n",
    "lr_pipeline = Pipeline(steps=[\n",
    "    ('preprocessor', preprocessor),\n",
    "    ('model', LinearRegression())\n",
    "])\n",
    "\n",
    "# Train the model and measure time\n",
    "%time lr_pipeline.fit(X_train, y_train)"
   ]
  },
  {
   "cell_type": "code",
   "execution_count": 11,
   "metadata": {
    "trusted": true
   },
   "outputs": [
    {
     "name": "stdout",
     "output_type": "stream",
     "text": [
      "CPU times: user 187 ms, sys: 32.3 ms, total: 219 ms\n",
      "Wall time: 264 ms\n",
      "Linear Regression RMSE: 3417.25\n"
     ]
    }
   ],
   "source": [
    "# Predict and measure prediction time\n",
    "%time y_pred = lr_pipeline.predict(X_valid)\n",
    "\n",
    "# Evaluate using RMSE\n",
    "lr_rmse = mean_squared_error(y_valid, y_pred, squared=False)\n",
    "print(f\"Linear Regression RMSE: {lr_rmse:.2f}\")"
   ]
  },
  {
   "cell_type": "markdown",
   "metadata": {},
   "source": [
    "#### Conclusion\n",
    "While fast to train and predict, the model produced a relatively high RMSE, indicating limited predictive accuracy on this dataset."
   ]
  },
  {
   "cell_type": "markdown",
   "metadata": {},
   "source": [
    "### Decision Tree Regressor\n",
    "A Decision Tree Regressor was implemented next to capture non-linear relationships in the data. The model was wrapped in the same preprocessing pipeline as before."
   ]
  },
  {
   "cell_type": "code",
   "execution_count": 12,
   "metadata": {
    "trusted": true
   },
   "outputs": [],
   "source": [
    "# Instantiate the model\n",
    "dt_model = DecisionTreeRegressor(random_state=42)"
   ]
  },
  {
   "cell_type": "code",
   "execution_count": 13,
   "metadata": {
    "trusted": true
   },
   "outputs": [
    {
     "name": "stdout",
     "output_type": "stream",
     "text": [
      "CPU times: user 1min 31s, sys: 22.3 ms, total: 1min 31s\n",
      "Wall time: 1min 31s\n"
     ]
    },
    {
     "data": {
      "text/plain": [
       "Pipeline(steps=[('preprocessor',\n",
       "                 ColumnTransformer(remainder='passthrough',\n",
       "                                   transformers=[('cat',\n",
       "                                                  OneHotEncoder(handle_unknown='ignore'),\n",
       "                                                  ['DateCrawled', 'VehicleType',\n",
       "                                                   'Gearbox', 'Model',\n",
       "                                                   'FuelType', 'Brand',\n",
       "                                                   'NotRepaired'])])),\n",
       "                ('model', DecisionTreeRegressor(random_state=42))])"
      ]
     },
     "execution_count": 13,
     "metadata": {},
     "output_type": "execute_result"
    }
   ],
   "source": [
    "# Reuse categorical_cols from earlier\n",
    "dt_pipeline = Pipeline(steps=[\n",
    "    ('preprocessor', preprocessor),  # same column transformer from earlier\n",
    "    ('model', dt_model)\n",
    "])\n",
    "\n",
    "# Train and time it\n",
    "%time dt_pipeline.fit(X_train, y_train)"
   ]
  },
  {
   "cell_type": "code",
   "execution_count": 14,
   "metadata": {
    "scrolled": true,
    "trusted": true
   },
   "outputs": [
    {
     "name": "stdout",
     "output_type": "stream",
     "text": [
      "CPU times: user 196 ms, sys: 3.92 ms, total: 200 ms\n",
      "Wall time: 206 ms\n",
      "Decision Tree RMSE: 2108.21\n"
     ]
    }
   ],
   "source": [
    "# Predict\n",
    "%time dt_preds = dt_pipeline.predict(X_valid)\n",
    "\n",
    "# Evaluate\n",
    "dt_rmse = mean_squared_error(y_valid, dt_preds, squared=False)\n",
    "print(f\"Decision Tree RMSE: {dt_rmse:.2f}\")"
   ]
  },
  {
   "cell_type": "markdown",
   "metadata": {},
   "source": [
    "#### Conclusion\n",
    "This model significantly improved prediction accuracy over linear regression, but its performance is still outpaced by more advanced ensemble methods."
   ]
  },
  {
   "cell_type": "markdown",
   "metadata": {},
   "source": [
    "### Random Forest Regressor (Untuned)\n",
    "An untuned Random Forest Regressor was introduced to enhance model performance by leveraging multiple decision trees."
   ]
  },
  {
   "cell_type": "code",
   "execution_count": 15,
   "metadata": {
    "scrolled": true,
    "trusted": true
   },
   "outputs": [
    {
     "name": "stdout",
     "output_type": "stream",
     "text": [
      "CPU times: user 25.7 s, sys: 39.9 ms, total: 25.8 s\n",
      "Wall time: 25.8 s\n",
      "CPU times: user 211 ms, sys: 21 µs, total: 211 ms\n",
      "Wall time: 210 ms\n",
      "Random Forest RMSE: 2052.59\n"
     ]
    }
   ],
   "source": [
    "rf_model = RandomForestRegressor(n_estimators=10, max_depth=10, random_state=42, n_jobs=-1)\n",
    "\n",
    "\n",
    "rf_pipeline = Pipeline(steps=[\n",
    "    ('preprocessor', preprocessor),\n",
    "    ('model', rf_model)\n",
    "])\n",
    "\n",
    "%time rf_pipeline.fit(X_train, y_train)\n",
    "\n",
    "\n",
    "%time rf_preds = rf_pipeline.predict(X_valid)\n",
    "\n",
    "rf_rmse = mean_squared_error(y_valid, rf_preds, squared=False)\n",
    "print(f\"Random Forest RMSE: {rf_rmse:.2f}\")"
   ]
  },
  {
   "cell_type": "markdown",
   "metadata": {},
   "source": [
    "#### Conclusion\n",
    "Even without hyperparameter tuning, the random forest model provided a substantial improvement in RMSE over both linear and standalone decision tree models."
   ]
  },
  {
   "cell_type": "markdown",
   "metadata": {},
   "source": [
    "###  Random Forest Regressor (Tuned)\n",
    "To optimize performance, a Random Forest Regressor was tuned using `GridSearchCV` across a defined range of hyperparameters including depth, number of estimators, and sampling splits."
   ]
  },
  {
   "cell_type": "code",
   "execution_count": 16,
   "metadata": {
    "collapsed": true,
    "trusted": true
   },
   "outputs": [
    {
     "name": "stdout",
     "output_type": "stream",
     "text": [
      "Fitting 3 folds for each of 36 candidates, totalling 108 fits\n",
      "[CV] END model__max_depth=10, model__max_features=sqrt, model__min_samples_leaf=1, model__min_samples_split=2, model__n_estimators=100; total time=   2.6s\n",
      "[CV] END model__max_depth=10, model__max_features=sqrt, model__min_samples_leaf=1, model__min_samples_split=2, model__n_estimators=100; total time=   2.6s\n",
      "[CV] END model__max_depth=10, model__max_features=sqrt, model__min_samples_leaf=1, model__min_samples_split=2, model__n_estimators=100; total time=   2.7s\n",
      "[CV] END model__max_depth=10, model__max_features=sqrt, model__min_samples_leaf=1, model__min_samples_split=2, model__n_estimators=150; total time=   3.6s\n",
      "[CV] END model__max_depth=10, model__max_features=sqrt, model__min_samples_leaf=1, model__min_samples_split=2, model__n_estimators=150; total time=   3.7s\n",
      "[CV] END model__max_depth=10, model__max_features=sqrt, model__min_samples_leaf=1, model__min_samples_split=2, model__n_estimators=150; total time=   3.8s\n",
      "[CV] END model__max_depth=10, model__max_features=sqrt, model__min_samples_leaf=1, model__min_samples_split=2, model__n_estimators=200; total time=   4.6s\n",
      "[CV] END model__max_depth=10, model__max_features=sqrt, model__min_samples_leaf=1, model__min_samples_split=2, model__n_estimators=200; total time=   4.8s\n",
      "[CV] END model__max_depth=10, model__max_features=sqrt, model__min_samples_leaf=1, model__min_samples_split=2, model__n_estimators=200; total time=   5.0s\n",
      "[CV] END model__max_depth=10, model__max_features=sqrt, model__min_samples_leaf=1, model__min_samples_split=4, model__n_estimators=100; total time=   2.4s\n",
      "[CV] END model__max_depth=10, model__max_features=sqrt, model__min_samples_leaf=1, model__min_samples_split=4, model__n_estimators=100; total time=   2.5s\n",
      "[CV] END model__max_depth=10, model__max_features=sqrt, model__min_samples_leaf=1, model__min_samples_split=4, model__n_estimators=100; total time=   2.5s\n",
      "[CV] END model__max_depth=10, model__max_features=sqrt, model__min_samples_leaf=1, model__min_samples_split=4, model__n_estimators=150; total time=   3.3s\n",
      "[CV] END model__max_depth=10, model__max_features=sqrt, model__min_samples_leaf=1, model__min_samples_split=4, model__n_estimators=150; total time=   3.5s\n",
      "[CV] END model__max_depth=10, model__max_features=sqrt, model__min_samples_leaf=1, model__min_samples_split=4, model__n_estimators=150; total time=   3.5s\n",
      "[CV] END model__max_depth=10, model__max_features=sqrt, model__min_samples_leaf=1, model__min_samples_split=4, model__n_estimators=200; total time=   4.3s\n",
      "[CV] END model__max_depth=10, model__max_features=sqrt, model__min_samples_leaf=1, model__min_samples_split=4, model__n_estimators=200; total time=   4.3s\n",
      "[CV] END model__max_depth=10, model__max_features=sqrt, model__min_samples_leaf=1, model__min_samples_split=4, model__n_estimators=200; total time=   4.5s\n",
      "[CV] END model__max_depth=10, model__max_features=sqrt, model__min_samples_leaf=2, model__min_samples_split=2, model__n_estimators=100; total time=   2.3s\n",
      "[CV] END model__max_depth=10, model__max_features=sqrt, model__min_samples_leaf=2, model__min_samples_split=2, model__n_estimators=100; total time=   2.3s\n",
      "[CV] END model__max_depth=10, model__max_features=sqrt, model__min_samples_leaf=2, model__min_samples_split=2, model__n_estimators=100; total time=   2.3s\n",
      "[CV] END model__max_depth=10, model__max_features=sqrt, model__min_samples_leaf=2, model__min_samples_split=2, model__n_estimators=150; total time=   3.3s\n",
      "[CV] END model__max_depth=10, model__max_features=sqrt, model__min_samples_leaf=2, model__min_samples_split=2, model__n_estimators=150; total time=   3.4s\n",
      "[CV] END model__max_depth=10, model__max_features=sqrt, model__min_samples_leaf=2, model__min_samples_split=2, model__n_estimators=150; total time=   3.3s\n",
      "[CV] END model__max_depth=10, model__max_features=sqrt, model__min_samples_leaf=2, model__min_samples_split=2, model__n_estimators=200; total time=   4.0s\n",
      "[CV] END model__max_depth=10, model__max_features=sqrt, model__min_samples_leaf=2, model__min_samples_split=2, model__n_estimators=200; total time=   4.0s\n",
      "[CV] END model__max_depth=10, model__max_features=sqrt, model__min_samples_leaf=2, model__min_samples_split=2, model__n_estimators=200; total time=   4.1s\n",
      "[CV] END model__max_depth=10, model__max_features=sqrt, model__min_samples_leaf=2, model__min_samples_split=4, model__n_estimators=100; total time=   2.2s\n",
      "[CV] END model__max_depth=10, model__max_features=sqrt, model__min_samples_leaf=2, model__min_samples_split=4, model__n_estimators=100; total time=   2.2s\n",
      "[CV] END model__max_depth=10, model__max_features=sqrt, model__min_samples_leaf=2, model__min_samples_split=4, model__n_estimators=100; total time=   2.3s\n",
      "[CV] END model__max_depth=10, model__max_features=sqrt, model__min_samples_leaf=2, model__min_samples_split=4, model__n_estimators=150; total time=   3.1s\n",
      "[CV] END model__max_depth=10, model__max_features=sqrt, model__min_samples_leaf=2, model__min_samples_split=4, model__n_estimators=150; total time=   3.1s\n",
      "[CV] END model__max_depth=10, model__max_features=sqrt, model__min_samples_leaf=2, model__min_samples_split=4, model__n_estimators=150; total time=   3.2s\n",
      "[CV] END model__max_depth=10, model__max_features=sqrt, model__min_samples_leaf=2, model__min_samples_split=4, model__n_estimators=200; total time=   3.9s\n",
      "[CV] END model__max_depth=10, model__max_features=sqrt, model__min_samples_leaf=2, model__min_samples_split=4, model__n_estimators=200; total time=   3.9s\n",
      "[CV] END model__max_depth=10, model__max_features=sqrt, model__min_samples_leaf=2, model__min_samples_split=4, model__n_estimators=200; total time=   4.1s\n",
      "[CV] END model__max_depth=15, model__max_features=sqrt, model__min_samples_leaf=1, model__min_samples_split=2, model__n_estimators=100; total time=   4.4s\n",
      "[CV] END model__max_depth=15, model__max_features=sqrt, model__min_samples_leaf=1, model__min_samples_split=2, model__n_estimators=100; total time=   4.5s\n",
      "[CV] END model__max_depth=15, model__max_features=sqrt, model__min_samples_leaf=1, model__min_samples_split=2, model__n_estimators=100; total time=   4.4s\n",
      "[CV] END model__max_depth=15, model__max_features=sqrt, model__min_samples_leaf=1, model__min_samples_split=2, model__n_estimators=150; total time=   6.4s\n",
      "[CV] END model__max_depth=15, model__max_features=sqrt, model__min_samples_leaf=1, model__min_samples_split=2, model__n_estimators=150; total time=   6.4s\n",
      "[CV] END model__max_depth=15, model__max_features=sqrt, model__min_samples_leaf=1, model__min_samples_split=2, model__n_estimators=150; total time=   6.5s\n",
      "[CV] END model__max_depth=15, model__max_features=sqrt, model__min_samples_leaf=1, model__min_samples_split=2, model__n_estimators=200; total time=   8.4s\n",
      "[CV] END model__max_depth=15, model__max_features=sqrt, model__min_samples_leaf=1, model__min_samples_split=2, model__n_estimators=200; total time=   8.5s\n",
      "[CV] END model__max_depth=15, model__max_features=sqrt, model__min_samples_leaf=1, model__min_samples_split=2, model__n_estimators=200; total time=   8.6s\n",
      "[CV] END model__max_depth=15, model__max_features=sqrt, model__min_samples_leaf=1, model__min_samples_split=4, model__n_estimators=100; total time=   3.6s\n",
      "[CV] END model__max_depth=15, model__max_features=sqrt, model__min_samples_leaf=1, model__min_samples_split=4, model__n_estimators=100; total time=   3.6s\n",
      "[CV] END model__max_depth=15, model__max_features=sqrt, model__min_samples_leaf=1, model__min_samples_split=4, model__n_estimators=100; total time=   3.7s\n",
      "[CV] END model__max_depth=15, model__max_features=sqrt, model__min_samples_leaf=1, model__min_samples_split=4, model__n_estimators=150; total time=   5.1s\n",
      "[CV] END model__max_depth=15, model__max_features=sqrt, model__min_samples_leaf=1, model__min_samples_split=4, model__n_estimators=150; total time=   5.2s\n",
      "[CV] END model__max_depth=15, model__max_features=sqrt, model__min_samples_leaf=1, model__min_samples_split=4, model__n_estimators=150; total time=   5.3s\n",
      "[CV] END model__max_depth=15, model__max_features=sqrt, model__min_samples_leaf=1, model__min_samples_split=4, model__n_estimators=200; total time=   6.7s\n",
      "[CV] END model__max_depth=15, model__max_features=sqrt, model__min_samples_leaf=1, model__min_samples_split=4, model__n_estimators=200; total time=   6.7s\n"
     ]
    },
    {
     "name": "stdout",
     "output_type": "stream",
     "text": [
      "[CV] END model__max_depth=15, model__max_features=sqrt, model__min_samples_leaf=1, model__min_samples_split=4, model__n_estimators=200; total time=   7.0s\n",
      "[CV] END model__max_depth=15, model__max_features=sqrt, model__min_samples_leaf=2, model__min_samples_split=2, model__n_estimators=100; total time=   3.0s\n",
      "[CV] END model__max_depth=15, model__max_features=sqrt, model__min_samples_leaf=2, model__min_samples_split=2, model__n_estimators=100; total time=   3.1s\n",
      "[CV] END model__max_depth=15, model__max_features=sqrt, model__min_samples_leaf=2, model__min_samples_split=2, model__n_estimators=100; total time=   3.1s\n",
      "[CV] END model__max_depth=15, model__max_features=sqrt, model__min_samples_leaf=2, model__min_samples_split=2, model__n_estimators=150; total time=   4.3s\n",
      "[CV] END model__max_depth=15, model__max_features=sqrt, model__min_samples_leaf=2, model__min_samples_split=2, model__n_estimators=150; total time=   4.2s\n",
      "[CV] END model__max_depth=15, model__max_features=sqrt, model__min_samples_leaf=2, model__min_samples_split=2, model__n_estimators=150; total time=   4.4s\n",
      "[CV] END model__max_depth=15, model__max_features=sqrt, model__min_samples_leaf=2, model__min_samples_split=2, model__n_estimators=200; total time=   5.5s\n",
      "[CV] END model__max_depth=15, model__max_features=sqrt, model__min_samples_leaf=2, model__min_samples_split=2, model__n_estimators=200; total time=   5.6s\n",
      "[CV] END model__max_depth=15, model__max_features=sqrt, model__min_samples_leaf=2, model__min_samples_split=2, model__n_estimators=200; total time=   5.8s\n",
      "[CV] END model__max_depth=15, model__max_features=sqrt, model__min_samples_leaf=2, model__min_samples_split=4, model__n_estimators=100; total time=   3.0s\n",
      "[CV] END model__max_depth=15, model__max_features=sqrt, model__min_samples_leaf=2, model__min_samples_split=4, model__n_estimators=100; total time=   3.1s\n",
      "[CV] END model__max_depth=15, model__max_features=sqrt, model__min_samples_leaf=2, model__min_samples_split=4, model__n_estimators=100; total time=   3.1s\n",
      "[CV] END model__max_depth=15, model__max_features=sqrt, model__min_samples_leaf=2, model__min_samples_split=4, model__n_estimators=150; total time=   4.4s\n",
      "[CV] END model__max_depth=15, model__max_features=sqrt, model__min_samples_leaf=2, model__min_samples_split=4, model__n_estimators=150; total time=   4.4s\n",
      "[CV] END model__max_depth=15, model__max_features=sqrt, model__min_samples_leaf=2, model__min_samples_split=4, model__n_estimators=150; total time=   4.5s\n",
      "[CV] END model__max_depth=15, model__max_features=sqrt, model__min_samples_leaf=2, model__min_samples_split=4, model__n_estimators=200; total time=   5.5s\n",
      "[CV] END model__max_depth=15, model__max_features=sqrt, model__min_samples_leaf=2, model__min_samples_split=4, model__n_estimators=200; total time=   5.5s\n",
      "[CV] END model__max_depth=15, model__max_features=sqrt, model__min_samples_leaf=2, model__min_samples_split=4, model__n_estimators=200; total time=   5.7s\n",
      "[CV] END model__max_depth=20, model__max_features=sqrt, model__min_samples_leaf=1, model__min_samples_split=2, model__n_estimators=100; total time=   7.3s\n",
      "[CV] END model__max_depth=20, model__max_features=sqrt, model__min_samples_leaf=1, model__min_samples_split=2, model__n_estimators=100; total time=   7.3s\n",
      "[CV] END model__max_depth=20, model__max_features=sqrt, model__min_samples_leaf=1, model__min_samples_split=2, model__n_estimators=100; total time=   7.4s\n",
      "[CV] END model__max_depth=20, model__max_features=sqrt, model__min_samples_leaf=1, model__min_samples_split=2, model__n_estimators=150; total time=  10.8s\n",
      "[CV] END model__max_depth=20, model__max_features=sqrt, model__min_samples_leaf=1, model__min_samples_split=2, model__n_estimators=150; total time=  11.0s\n",
      "[CV] END model__max_depth=20, model__max_features=sqrt, model__min_samples_leaf=1, model__min_samples_split=2, model__n_estimators=150; total time=  11.2s\n",
      "[CV] END model__max_depth=20, model__max_features=sqrt, model__min_samples_leaf=1, model__min_samples_split=2, model__n_estimators=200; total time=  14.5s\n",
      "[CV] END model__max_depth=20, model__max_features=sqrt, model__min_samples_leaf=1, model__min_samples_split=2, model__n_estimators=200; total time=  14.4s\n",
      "[CV] END model__max_depth=20, model__max_features=sqrt, model__min_samples_leaf=1, model__min_samples_split=2, model__n_estimators=200; total time=  15.0s\n",
      "[CV] END model__max_depth=20, model__max_features=sqrt, model__min_samples_leaf=1, model__min_samples_split=4, model__n_estimators=100; total time=   5.5s\n",
      "[CV] END model__max_depth=20, model__max_features=sqrt, model__min_samples_leaf=1, model__min_samples_split=4, model__n_estimators=100; total time=   5.5s\n",
      "[CV] END model__max_depth=20, model__max_features=sqrt, model__min_samples_leaf=1, model__min_samples_split=4, model__n_estimators=100; total time=   5.7s\n",
      "[CV] END model__max_depth=20, model__max_features=sqrt, model__min_samples_leaf=1, model__min_samples_split=4, model__n_estimators=150; total time=   7.8s\n",
      "[CV] END model__max_depth=20, model__max_features=sqrt, model__min_samples_leaf=1, model__min_samples_split=4, model__n_estimators=150; total time=   8.0s\n",
      "[CV] END model__max_depth=20, model__max_features=sqrt, model__min_samples_leaf=1, model__min_samples_split=4, model__n_estimators=150; total time=   8.4s\n",
      "[CV] END model__max_depth=20, model__max_features=sqrt, model__min_samples_leaf=1, model__min_samples_split=4, model__n_estimators=200; total time=  10.6s\n",
      "[CV] END model__max_depth=20, model__max_features=sqrt, model__min_samples_leaf=1, model__min_samples_split=4, model__n_estimators=200; total time=  10.6s\n",
      "[CV] END model__max_depth=20, model__max_features=sqrt, model__min_samples_leaf=1, model__min_samples_split=4, model__n_estimators=200; total time=  11.0s\n",
      "[CV] END model__max_depth=20, model__max_features=sqrt, model__min_samples_leaf=2, model__min_samples_split=2, model__n_estimators=100; total time=   3.9s\n",
      "[CV] END model__max_depth=20, model__max_features=sqrt, model__min_samples_leaf=2, model__min_samples_split=2, model__n_estimators=100; total time=   3.8s\n",
      "[CV] END model__max_depth=20, model__max_features=sqrt, model__min_samples_leaf=2, model__min_samples_split=2, model__n_estimators=100; total time=   3.9s\n",
      "[CV] END model__max_depth=20, model__max_features=sqrt, model__min_samples_leaf=2, model__min_samples_split=2, model__n_estimators=150; total time=   5.6s\n",
      "[CV] END model__max_depth=20, model__max_features=sqrt, model__min_samples_leaf=2, model__min_samples_split=2, model__n_estimators=150; total time=   5.6s\n",
      "[CV] END model__max_depth=20, model__max_features=sqrt, model__min_samples_leaf=2, model__min_samples_split=2, model__n_estimators=150; total time=   5.8s\n",
      "[CV] END model__max_depth=20, model__max_features=sqrt, model__min_samples_leaf=2, model__min_samples_split=2, model__n_estimators=200; total time=   7.3s\n",
      "[CV] END model__max_depth=20, model__max_features=sqrt, model__min_samples_leaf=2, model__min_samples_split=2, model__n_estimators=200; total time=   7.2s\n",
      "[CV] END model__max_depth=20, model__max_features=sqrt, model__min_samples_leaf=2, model__min_samples_split=2, model__n_estimators=200; total time=   7.5s\n",
      "[CV] END model__max_depth=20, model__max_features=sqrt, model__min_samples_leaf=2, model__min_samples_split=4, model__n_estimators=100; total time=   3.9s\n",
      "[CV] END model__max_depth=20, model__max_features=sqrt, model__min_samples_leaf=2, model__min_samples_split=4, model__n_estimators=100; total time=   3.8s\n",
      "[CV] END model__max_depth=20, model__max_features=sqrt, model__min_samples_leaf=2, model__min_samples_split=4, model__n_estimators=100; total time=   3.9s\n",
      "[CV] END model__max_depth=20, model__max_features=sqrt, model__min_samples_leaf=2, model__min_samples_split=4, model__n_estimators=150; total time=   5.6s\n",
      "[CV] END model__max_depth=20, model__max_features=sqrt, model__min_samples_leaf=2, model__min_samples_split=4, model__n_estimators=150; total time=   5.6s\n",
      "[CV] END model__max_depth=20, model__max_features=sqrt, model__min_samples_leaf=2, model__min_samples_split=4, model__n_estimators=150; total time=   5.7s\n",
      "[CV] END model__max_depth=20, model__max_features=sqrt, model__min_samples_leaf=2, model__min_samples_split=4, model__n_estimators=200; total time=   7.3s\n"
     ]
    },
    {
     "name": "stdout",
     "output_type": "stream",
     "text": [
      "[CV] END model__max_depth=20, model__max_features=sqrt, model__min_samples_leaf=2, model__min_samples_split=4, model__n_estimators=200; total time=   7.3s\n",
      "[CV] END model__max_depth=20, model__max_features=sqrt, model__min_samples_leaf=2, model__min_samples_split=4, model__n_estimators=200; total time=   7.5s\n",
      "CPU times: user 9min 50s, sys: 335 ms, total: 9min 51s\n",
      "Wall time: 9min 52s\n",
      "Best RMSE: 3651.365901113233\n",
      "Best parameters: {'model__max_depth': 20, 'model__max_features': 'sqrt', 'model__min_samples_leaf': 1, 'model__min_samples_split': 4, 'model__n_estimators': 200}\n"
     ]
    }
   ],
   "source": [
    "param_grid = {\n",
    "    'model__n_estimators': [100, 150, 200],\n",
    "    'model__max_depth': [10, 15, 20],\n",
    "    'model__min_samples_split': [2, 4],\n",
    "    'model__min_samples_leaf': [1, 2],\n",
    "    'model__max_features': ['sqrt']\n",
    "}\n",
    "\n",
    "rf_pipeline = Pipeline(steps=[\n",
    "    ('preprocessor', preprocessor),\n",
    "    ('model', RandomForestRegressor(random_state=42, n_jobs=-1))\n",
    "])\n",
    "\n",
    "grid_search = GridSearchCV(\n",
    "    rf_pipeline,\n",
    "    param_grid=param_grid,\n",
    "    scoring='neg_root_mean_squared_error',\n",
    "    cv=3,\n",
    "    n_jobs=-1,\n",
    "    verbose=2\n",
    ")\n",
    "\n",
    "%time grid_search.fit(X_train, y_train)\n",
    "\n",
    "print(\"Best RMSE:\", -grid_search.best_score_)\n",
    "print(\"Best parameters:\", grid_search.best_params_)"
   ]
  },
  {
   "cell_type": "code",
   "execution_count": 17,
   "metadata": {
    "trusted": true
   },
   "outputs": [
    {
     "name": "stdout",
     "output_type": "stream",
     "text": [
      "CPU times: user 1.11 s, sys: 5.8 ms, total: 1.12 s\n",
      "Wall time: 1.12 s\n",
      "Tuned Random Forest RMSE: 3658.67\n"
     ]
    }
   ],
   "source": [
    "best_rf_model = grid_search.best_estimator_\n",
    "\n",
    "%time tuned_preds = best_rf_model.predict(X_valid)\n",
    "\n",
    "tuned_rmse = mean_squared_error(y_valid, tuned_preds, squared=False)\n",
    "print(f\"Tuned Random Forest RMSE: {tuned_rmse:.2f}\")"
   ]
  },
  {
   "cell_type": "markdown",
   "metadata": {},
   "source": [
    "#### Conclusion\n",
    "Despite extensive tuning, the optimized model yielded a higher RMSE than its untuned counterpart, suggesting that the default configuration may have better suited the data in this case."
   ]
  },
  {
   "cell_type": "markdown",
   "metadata": {},
   "source": [
    "### Cat Boost Regressor\n",
    "CatBoost, a gradient boosting algorithm optimized for categorical features, was trained using default settings with minimal preprocessing. It directly handled the categorical columns without requiring encoding."
   ]
  },
  {
   "cell_type": "code",
   "execution_count": 18,
   "metadata": {
    "trusted": true
   },
   "outputs": [],
   "source": [
    "# Instantiate model with reasonable parameters\n",
    "cat_model = CatBoostRegressor(\n",
    "    iterations=100,\n",
    "    learning_rate=0.1,\n",
    "    depth=6,\n",
    "    loss_function='RMSE',\n",
    "    random_seed=42,\n",
    "    verbose=10 \n",
    ")"
   ]
  },
  {
   "cell_type": "code",
   "execution_count": 19,
   "metadata": {
    "scrolled": false,
    "trusted": true
   },
   "outputs": [
    {
     "name": "stdout",
     "output_type": "stream",
     "text": [
      "0:\tlearn: 4224.1117379\ttotal: 177ms\tremaining: 17.5s\n",
      "10:\tlearn: 2720.2407216\ttotal: 1.17s\tremaining: 9.48s\n",
      "20:\tlearn: 2277.8680388\ttotal: 2.12s\tremaining: 7.97s\n",
      "30:\tlearn: 2123.8318542\ttotal: 3.06s\tremaining: 6.81s\n",
      "40:\tlearn: 2052.0810895\ttotal: 4.02s\tremaining: 5.79s\n",
      "50:\tlearn: 2011.5094082\ttotal: 5s\tremaining: 4.8s\n",
      "60:\tlearn: 1979.8685111\ttotal: 5.96s\tremaining: 3.81s\n",
      "70:\tlearn: 1955.7710655\ttotal: 6.91s\tremaining: 2.82s\n",
      "80:\tlearn: 1938.4965487\ttotal: 7.86s\tremaining: 1.84s\n",
      "90:\tlearn: 1925.4507509\ttotal: 8.8s\tremaining: 870ms\n",
      "99:\tlearn: 1914.2603428\ttotal: 9.65s\tremaining: 0us\n",
      "CPU times: user 9.89 s, sys: 84 ms, total: 9.98 s\n",
      "Wall time: 10.2 s\n"
     ]
    },
    {
     "data": {
      "text/plain": [
       "<catboost.core.CatBoostRegressor at 0x7f4f969ac520>"
      ]
     },
     "execution_count": 19,
     "metadata": {},
     "output_type": "execute_result"
    }
   ],
   "source": [
    "# Categorical columns\n",
    "categorical_cols = X_train.select_dtypes(include='object').columns.tolist()\n",
    "\n",
    "# Train the model\n",
    "%time cat_model.fit(X_train, y_train, cat_features=categorical_cols)"
   ]
  },
  {
   "cell_type": "code",
   "execution_count": 20,
   "metadata": {
    "trusted": true
   },
   "outputs": [
    {
     "name": "stdout",
     "output_type": "stream",
     "text": [
      "CPU times: user 82.4 ms, sys: 0 ns, total: 82.4 ms\n",
      "Wall time: 80.9 ms\n",
      "CatBoost RMSE: 1932.39\n"
     ]
    }
   ],
   "source": [
    "# Predict\n",
    "%time cat_preds = cat_model.predict(X_valid)\n",
    "\n",
    "# Evaluate\n",
    "cat_rmse = mean_squared_error(y_valid, cat_preds, squared=False)\n",
    "print(f\"CatBoost RMSE: {cat_rmse:.2f}\")"
   ]
  },
  {
   "cell_type": "markdown",
   "metadata": {},
   "source": [
    "#### Conclusion\n",
    "The CatBoost model delivered strong performance with a low RMSE and fast prediction time, making it an efficient and effective option for this regression task."
   ]
  },
  {
   "cell_type": "markdown",
   "metadata": {},
   "source": [
    "### LigthGBM Regressor\n",
    "LightGBM, a gradient boosting framework known for speed and efficiency, was implemented with its native handling of categorical features. Categorical columns were cast to the `category` type to optimize performance."
   ]
  },
  {
   "cell_type": "code",
   "execution_count": 21,
   "metadata": {
    "scrolled": false,
    "trusted": true
   },
   "outputs": [
    {
     "name": "stderr",
     "output_type": "stream",
     "text": [
      "/tmp/ipykernel_84/4082393857.py:6: SettingWithCopyWarning: \n",
      "A value is trying to be set on a copy of a slice from a DataFrame.\n",
      "Try using .loc[row_indexer,col_indexer] = value instead\n",
      "\n",
      "See the caveats in the documentation: https://pandas.pydata.org/pandas-docs/stable/user_guide/indexing.html#returning-a-view-versus-a-copy\n",
      "  X_train[col] = X_train[col].astype('category')\n",
      "/tmp/ipykernel_84/4082393857.py:7: SettingWithCopyWarning: \n",
      "A value is trying to be set on a copy of a slice from a DataFrame.\n",
      "Try using .loc[row_indexer,col_indexer] = value instead\n",
      "\n",
      "See the caveats in the documentation: https://pandas.pydata.org/pandas-docs/stable/user_guide/indexing.html#returning-a-view-versus-a-copy\n",
      "  X_valid[col] = X_valid[col].astype('category')\n"
     ]
    }
   ],
   "source": [
    "# Identify categorical columns\n",
    "categorical_cols = X_train.select_dtypes(include='object').columns.tolist()\n",
    "\n",
    "# Convert to 'category' dtype\n",
    "for col in categorical_cols:\n",
    "    X_train[col] = X_train[col].astype('category')\n",
    "    X_valid[col] = X_valid[col].astype('category')"
   ]
  },
  {
   "cell_type": "code",
   "execution_count": 22,
   "metadata": {
    "trusted": true
   },
   "outputs": [
    {
     "name": "stderr",
     "output_type": "stream",
     "text": [
      "/opt/conda/envs/python3/lib/python3.9/site-packages/lightgbm/basic.py:2065: UserWarning: Using categorical_feature in Dataset.\n",
      "  _log_warning('Using categorical_feature in Dataset.')\n"
     ]
    },
    {
     "name": "stdout",
     "output_type": "stream",
     "text": [
      "CPU times: user 6.98 s, sys: 7.8 ms, total: 6.98 s\n",
      "Wall time: 6.98 s\n"
     ]
    },
    {
     "data": {
      "text/plain": [
       "LGBMRegressor(max_depth=6, objective='regression', random_state=42)"
      ]
     },
     "execution_count": 22,
     "metadata": {},
     "output_type": "execute_result"
    }
   ],
   "source": [
    "# Initialize the model\n",
    "lgb_model = lgb.LGBMRegressor(\n",
    "    objective='regression',\n",
    "    n_estimators=100,\n",
    "    learning_rate=0.1,\n",
    "    max_depth=6,\n",
    "    random_state=42\n",
    ")\n",
    "\n",
    "# Train and time\n",
    "%time lgb_model.fit(X_train, y_train, categorical_feature=categorical_cols)"
   ]
  },
  {
   "cell_type": "code",
   "execution_count": 23,
   "metadata": {
    "trusted": true
   },
   "outputs": [
    {
     "name": "stdout",
     "output_type": "stream",
     "text": [
      "CPU times: user 590 ms, sys: 3.98 ms, total: 594 ms\n",
      "Wall time: 603 ms\n",
      "LightGBM RMSE: 1830.59\n"
     ]
    }
   ],
   "source": [
    "%time lgb_preds = lgb_model.predict(X_valid)\n",
    "\n",
    "lgb_rmse = mean_squared_error(y_valid, lgb_preds, squared=False)\n",
    "print(f\"LightGBM RMSE: {lgb_rmse:.2f}\")"
   ]
  },
  {
   "cell_type": "markdown",
   "metadata": {},
   "source": [
    "#### Conclusion\n",
    "The model trained quickly and produced the lowest RMSE among all tested models, indicating strong predictive capability with excellent efficiency."
   ]
  },
  {
   "cell_type": "markdown",
   "metadata": {},
   "source": [
    "### XGBoost Regressor\n",
    "XGBoost, a powerful and scalable gradient boosting algorithm, was implemented with one-hot encoded categorical features. This setup aimed to leverage its regularization strengths and high performance on structured data."
   ]
  },
  {
   "cell_type": "code",
   "execution_count": 24,
   "metadata": {
    "trusted": true
   },
   "outputs": [],
   "source": [
    "# Categorical columns\n",
    "categorical_cols = X_train.select_dtypes(include='object').columns.tolist()\n",
    "\n",
    "# One-Hot Encoder setup\n",
    "encoder = OneHotEncoder(handle_unknown='ignore', sparse=False)\n",
    "\n",
    "# Fit and transform training data\n",
    "X_train_encoded = encoder.fit_transform(X_train[categorical_cols])\n",
    "X_valid_encoded = encoder.transform(X_valid[categorical_cols])\n",
    "\n",
    "# Convert to DataFrames\n",
    "X_train_encoded_df = pd.DataFrame(X_train_encoded, index=X_train.index, columns=encoder.get_feature_names(categorical_cols))\n",
    "X_valid_encoded_df = pd.DataFrame(X_valid_encoded, index=X_valid.index, columns=encoder.get_feature_names(categorical_cols))\n",
    "\n",
    "# Combine with non-categorical features\n",
    "X_train_final = pd.concat([X_train.drop(columns=categorical_cols), X_train_encoded_df], axis=1)\n",
    "X_valid_final = pd.concat([X_valid.drop(columns=categorical_cols), X_valid_encoded_df], axis=1)"
   ]
  },
  {
   "cell_type": "code",
   "execution_count": 25,
   "metadata": {
    "trusted": true
   },
   "outputs": [
    {
     "name": "stdout",
     "output_type": "stream",
     "text": [
      "int64       4\n",
      "category    1\n",
      "category    1\n",
      "category    1\n",
      "category    1\n",
      "category    1\n",
      "category    1\n",
      "category    1\n",
      "dtype: int64\n"
     ]
    }
   ],
   "source": [
    "print(X_train_final.dtypes.value_counts())"
   ]
  },
  {
   "cell_type": "code",
   "execution_count": 26,
   "metadata": {
    "trusted": true
   },
   "outputs": [],
   "source": [
    "X_train_xgb = X_train_final.select_dtypes(include=['int64', 'float64'])\n",
    "X_valid_xgb = X_valid_final.select_dtypes(include=['int64', 'float64'])"
   ]
  },
  {
   "cell_type": "code",
   "execution_count": 27,
   "metadata": {
    "trusted": true
   },
   "outputs": [
    {
     "name": "stdout",
     "output_type": "stream",
     "text": [
      "CPU times: user 47.7 s, sys: 31.2 ms, total: 47.7 s\n",
      "Wall time: 47.8 s\n",
      "CPU times: user 698 ms, sys: 0 ns, total: 698 ms\n",
      "Wall time: 659 ms\n",
      "XGBoost RMSE: 2166.46\n"
     ]
    }
   ],
   "source": [
    "xgb_model = XGBRegressor(\n",
    "    n_estimators=200,        \n",
    "    learning_rate=0.05,       \n",
    "    max_depth=8,              \n",
    "    subsample=0.8,           \n",
    "    colsample_bytree=0.8,     \n",
    "    random_state=42,\n",
    "    n_jobs=-1\n",
    ")\n",
    "\n",
    "\n",
    "%time xgb_model.fit(X_train_xgb, y_train)\n",
    "%time xgb_preds = xgb_model.predict(X_valid_xgb)\n",
    "\n",
    "# Evaluate\n",
    "xgb_rmse = mean_squared_error(y_valid, xgb_preds, squared=False)\n",
    "print(f\"XGBoost RMSE: {xgb_rmse:.2f}\")"
   ]
  },
  {
   "cell_type": "markdown",
   "metadata": {},
   "source": [
    "#### Conclusion\n",
    "While XGBoost delivered a relatively strong prediction performance, its training time was significantly higher than other models, and its RMSE was slightly worse than LightGBM or CatBoost."
   ]
  },
  {
   "cell_type": "markdown",
   "metadata": {},
   "source": [
    "## Model analysis\n",
    "In this section, we evaluate the performance of all trained models by comparing their Root Mean Squared Error (RMSE), training durations, and prediction times. RMSE is used as the primary metric to measure prediction accuracy, while time metrics help assess each model’s efficiency. This comparison supports selecting the most suitable model for deployment in the Rusty Bargain application."
   ]
  },
  {
   "cell_type": "code",
   "execution_count": 28,
   "metadata": {
    "trusted": true
   },
   "outputs": [
    {
     "name": "stdout",
     "output_type": "stream",
     "text": [
      "                  Model        RMSE\n",
      "               LightGBM 1830.588117\n",
      "               CatBoost 1932.391286\n",
      "Random Forest (Untuned) 2052.590734\n",
      "          Decision Tree 2108.214395\n",
      "                XGBoost 2166.461945\n",
      "      Linear Regression 3417.246973\n",
      "  Random Forest (Tuned) 3658.672617\n"
     ]
    }
   ],
   "source": [
    "results = {\n",
    "    'Model': [\n",
    "        'Linear Regression',\n",
    "        'Decision Tree',\n",
    "        'Random Forest (Untuned)',\n",
    "        'Random Forest (Tuned)',\n",
    "        'CatBoost',\n",
    "        'LightGBM',\n",
    "        'XGBoost'\n",
    "    ],\n",
    "    'RMSE': [\n",
    "        lr_rmse,\n",
    "        dt_rmse,\n",
    "        rf_rmse,\n",
    "        tuned_rmse,\n",
    "        cat_rmse,\n",
    "        lgb_rmse,\n",
    "        xgb_rmse\n",
    "    ]\n",
    "}\n",
    "\n",
    "df_results = pd.DataFrame(results)\n",
    "df_results = df_results.sort_values(by='RMSE')\n",
    "\n",
    "print(df_results.to_string(index=False))"
   ]
  },
  {
   "cell_type": "code",
   "execution_count": 29,
   "metadata": {
    "scrolled": false,
    "trusted": true
   },
   "outputs": [
    {
     "data": {
      "image/png": "[encoded data removed]",
      "text/plain": [
       "<Figure size 640x480 with 1 Axes>"
      ]
     },
     "metadata": {},
     "output_type": "display_data"
    }
   ],
   "source": [
    "df_results.plot(kind='barh', x='Model', y='RMSE', legend=False)\n",
    "plt.title('Model RMSE Comparison')\n",
    "plt.xlabel('RMSE')\n",
    "plt.grid(True)\n",
    "plt.tight_layout()\n",
    "plt.show()"
   ]
  },
  {
   "cell_type": "markdown",
   "metadata": {},
   "source": [
    " **Below we can see which features contribute to a vehicles value. Features like The year and model of vehicle the the matter most while the brand and vehicle type aren't quite as important.**"
   ]
  },
  {
   "cell_type": "code",
   "execution_count": 30,
   "metadata": {
    "scrolled": true,
    "trusted": true
   },
   "outputs": [
    {
     "data": {
      "text/plain": [
       "<Figure size 640x480 with 0 Axes>"
      ]
     },
     "metadata": {},
     "output_type": "display_data"
    },
    {
     "data": {
      "image/png": "[encoded data removed]",
      "text/plain": [
       "<Figure size 640x480 with 1 Axes>"
      ]
     },
     "metadata": {},
     "output_type": "display_data"
    }
   ],
   "source": [
    "# LightGBM feature importance\n",
    "plt.figure()\n",
    "lgb.plot_importance(lgb_model, max_num_features=10)\n",
    "plt.title(\"LightGBM Feature Importance\")\n",
    "plt.tight_layout()\n",
    "plt.show()"
   ]
  },
  {
   "cell_type": "markdown",
   "metadata": {},
   "source": []
  },
  {
   "cell_type": "markdown",
   "metadata": {},
   "source": [
    "**Here are some sample predictions for a few of the models we trained.**"
   ]
  },
  {
   "cell_type": "code",
   "execution_count": 31,
   "metadata": {
    "scrolled": true,
    "trusted": true
   },
   "outputs": [
    {
     "name": "stdout",
     "output_type": "stream",
     "text": [
      "Actual Price: 19999\n",
      "Linear Regression: 8389.14\n",
      "Decision Tree: 17950.00\n",
      "Random Forest (Tuned): 5506.84\n",
      "CatBoost: 14573.17\n",
      "LightGBM: 15556.38\n"
     ]
    }
   ],
   "source": [
    "# Select sample input\n",
    "sample_input = X_valid.iloc[[0]]\n",
    "actual_price = y_valid.iloc[0]\n",
    "\n",
    "# Generate predictions using each model\n",
    "lr_pred = lr_pipeline.predict(sample_input)[0]\n",
    "dt_pred = dt_pipeline.predict(sample_input)[0]\n",
    "tuned_rf_pred = best_rf_model.predict(sample_input)[0]\n",
    "cat_pred = cat_model.predict(sample_input)[0]\n",
    "lgb_pred = lgb_model.predict(sample_input)[0]\n",
    "\n",
    "# Display results\n",
    "print(f\"Actual Price: {actual_price}\")\n",
    "print(f\"Linear Regression: {lr_pred:.2f}\")\n",
    "print(f\"Decision Tree: {dt_pred:.2f}\")\n",
    "print(f\"Random Forest (Tuned): {tuned_rf_pred:.2f}\")\n",
    "print(f\"CatBoost: {cat_pred:.2f}\")\n",
    "print(f\"LightGBM: {lgb_pred:.2f}\")"
   ]
  },
  {
   "cell_type": "markdown",
   "metadata": {},
   "source": [
    "**Although the Decision Tree model had a higher overall RMSE, it produced the closest prediction for this specific car. This shows that a model with lower general accuracy can sometimes outperform more advanced models on individual cases. That’s why it’s important to consider both overall metrics and single predictions when evaluating model performance.**"
   ]
  },
  {
   "cell_type": "markdown",
   "metadata": {},
   "source": [
    "### Conclusion\n",
    "LightGBM achieved the lowest RMSE, indicating the best predictive accuracy, while also maintaining a fast prediction speed. CatBoost and XGBoost also performed well but required longer training times. Although the tuned Random Forest explored a broad hyperparameter space, it did not outperform simpler models. Based on overall performance, LightGBM is the most efficient and accurate model for car price prediction in this context."
   ]
  },
  {
   "cell_type": "markdown",
   "metadata": {},
   "source": [
    "# Project Conclusion\n",
    "In this project, we developed and compared multiple machine learning models to predict used car prices for Rusty Bargain's customer-facing application. Starting with a thorough data preparation phase, we handled missing values, encoded categorical features, and split the dataset into training and validation sets to ensure model efficacy.\n",
    "\n",
    "We explored a wide range of models—ranging from simple baselines like Linear Regression to advanced ensemble methods like LightGBM, CatBoost, and XGBoost. We also included both untuned and hyperparameter-optimized versions of Random Forest to evaluate the impact of tuning on performance.\n",
    "\n",
    "Model performance was assessed using Root Mean Squared Error (RMSE) to reflect how far predictions were, on average, from the actual car prices. We also captured training and prediction times to evaluate the models in terms of computational efficiency—a key factor for deploying a responsive user-facing tool.\n",
    "\n",
    "Key findings:\n",
    "\n",
    "- LightGBM delivered the best RMSE (1830.59), making it the most accurate model.\n",
    "\n",
    "- CatBoost and XGBoost also performed well, offering strong predictive power with relatively fast prediction times.\n",
    "\n",
    "- Tuning Random Forest led to significantly worse performance, highlighting that more complexity does not always yield better results.\n",
    "\n",
    "- Linear Regression, while fast, was least accurate and unsuitable for this context.\n",
    "\n",
    "A sample prediction confirmed LightGBM’s reliability by generating a realistic price estimate close to the actual value.\n",
    "\n",
    "<br><br>\n",
    "**Reccomendation:**\n",
    "Given the business needs---prediction quality-speed, and scalability—LightGBM is the optimal model for deployment in Rusty Bargain's application. It strikes a strong balance between accuracy and efficiency, making it ideal for real-time customer interactions.\n",
    "\n",
    "The modeling framework is modular and ready for integration into a production pipeline, supporting future updates or retraining with new data."
   ]
  }
 ],
 "metadata": {
  "ExecuteTimeLog": [
   {
    "duration": 812,
    "start_time": "2025-04-12T16:45:42.009Z"
   },
   {
    "duration": 480,
    "start_time": "2025-04-12T16:48:40.724Z"
   },
   {
    "duration": 121,
    "start_time": "2025-04-12T16:48:46.720Z"
   },
   {
    "duration": 22,
    "start_time": "2025-04-12T16:49:03.707Z"
   },
   {
    "duration": 65,
    "start_time": "2025-04-12T16:49:45.712Z"
   },
   {
    "duration": 19,
    "start_time": "2025-04-12T16:49:48.038Z"
   },
   {
    "duration": 93,
    "start_time": "2025-04-12T16:49:59.743Z"
   },
   {
    "duration": 3,
    "start_time": "2025-04-12T16:50:04.731Z"
   },
   {
    "duration": 74,
    "start_time": "2025-04-12T16:50:47.197Z"
   },
   {
    "duration": 49,
    "start_time": "2025-04-12T16:55:25.913Z"
   },
   {
    "duration": 75,
    "start_time": "2025-04-12T16:55:35.292Z"
   },
   {
    "duration": 716,
    "start_time": "2025-04-12T16:55:53.520Z"
   },
   {
    "duration": 406,
    "start_time": "2025-04-12T16:55:54.239Z"
   },
   {
    "duration": 110,
    "start_time": "2025-04-12T16:55:54.647Z"
   },
   {
    "duration": 14,
    "start_time": "2025-04-12T16:55:54.759Z"
   },
   {
    "duration": 65,
    "start_time": "2025-04-12T16:55:54.776Z"
   },
   {
    "duration": 13,
    "start_time": "2025-04-12T16:55:54.842Z"
   },
   {
    "duration": 101,
    "start_time": "2025-04-12T16:55:54.856Z"
   },
   {
    "duration": 3,
    "start_time": "2025-04-12T16:55:54.959Z"
   },
   {
    "duration": 85,
    "start_time": "2025-04-12T16:55:54.964Z"
   },
   {
    "duration": 49,
    "start_time": "2025-04-12T16:55:55.051Z"
   },
   {
    "duration": 85,
    "start_time": "2025-04-12T16:55:55.102Z"
   },
   {
    "duration": 769,
    "start_time": "2025-04-12T16:58:50.525Z"
   },
   {
    "duration": 406,
    "start_time": "2025-04-12T16:58:51.296Z"
   },
   {
    "duration": 115,
    "start_time": "2025-04-12T16:58:51.704Z"
   },
   {
    "duration": 19,
    "start_time": "2025-04-12T16:58:51.824Z"
   },
   {
    "duration": 59,
    "start_time": "2025-04-12T16:58:51.845Z"
   },
   {
    "duration": 226,
    "start_time": "2025-04-12T16:58:51.907Z"
   },
   {
    "duration": 12,
    "start_time": "2025-04-12T16:58:52.135Z"
   },
   {
    "duration": 103,
    "start_time": "2025-04-12T16:58:52.148Z"
   },
   {
    "duration": 3,
    "start_time": "2025-04-12T16:58:52.253Z"
   },
   {
    "duration": 775,
    "start_time": "2025-04-12T17:24:44.663Z"
   },
   {
    "duration": 409,
    "start_time": "2025-04-12T17:24:45.440Z"
   },
   {
    "duration": 105,
    "start_time": "2025-04-12T17:24:45.851Z"
   },
   {
    "duration": 17,
    "start_time": "2025-04-12T17:24:45.958Z"
   },
   {
    "duration": 67,
    "start_time": "2025-04-12T17:24:45.978Z"
   },
   {
    "duration": 214,
    "start_time": "2025-04-12T17:24:46.046Z"
   },
   {
    "duration": 12,
    "start_time": "2025-04-12T17:24:46.261Z"
   },
   {
    "duration": 101,
    "start_time": "2025-04-12T17:24:46.274Z"
   },
   {
    "duration": 3,
    "start_time": "2025-04-12T17:24:46.377Z"
   },
   {
    "duration": 1041,
    "start_time": "2025-04-12T17:26:29.903Z"
   },
   {
    "duration": 187,
    "start_time": "2025-04-12T17:26:35.082Z"
   },
   {
    "duration": 907,
    "start_time": "2025-04-12T17:46:30.159Z"
   },
   {
    "duration": 404,
    "start_time": "2025-04-12T17:46:31.068Z"
   },
   {
    "duration": 102,
    "start_time": "2025-04-12T17:46:31.474Z"
   },
   {
    "duration": 19,
    "start_time": "2025-04-12T17:46:31.579Z"
   },
   {
    "duration": 65,
    "start_time": "2025-04-12T17:46:31.600Z"
   },
   {
    "duration": 229,
    "start_time": "2025-04-12T17:46:31.667Z"
   },
   {
    "duration": 11,
    "start_time": "2025-04-12T17:46:31.898Z"
   },
   {
    "duration": 99,
    "start_time": "2025-04-12T17:46:31.911Z"
   },
   {
    "duration": 3,
    "start_time": "2025-04-12T17:46:32.012Z"
   },
   {
    "duration": 1010,
    "start_time": "2025-04-12T17:46:32.017Z"
   },
   {
    "duration": 262,
    "start_time": "2025-04-12T17:46:33.032Z"
   },
   {
    "duration": 3,
    "start_time": "2025-04-12T17:47:39.759Z"
   },
   {
    "duration": 955,
    "start_time": "2025-04-12T17:48:09.937Z"
   },
   {
    "duration": 561,
    "start_time": "2025-04-12T17:48:10.896Z"
   },
   {
    "duration": 111,
    "start_time": "2025-04-12T17:48:11.459Z"
   },
   {
    "duration": 22,
    "start_time": "2025-04-12T17:48:11.573Z"
   },
   {
    "duration": 63,
    "start_time": "2025-04-12T17:48:11.599Z"
   },
   {
    "duration": 223,
    "start_time": "2025-04-12T17:48:11.666Z"
   },
   {
    "duration": 12,
    "start_time": "2025-04-12T17:48:11.891Z"
   },
   {
    "duration": 106,
    "start_time": "2025-04-12T17:48:11.905Z"
   },
   {
    "duration": 3,
    "start_time": "2025-04-12T17:48:12.013Z"
   },
   {
    "duration": 1135,
    "start_time": "2025-04-12T17:48:12.026Z"
   },
   {
    "duration": 273,
    "start_time": "2025-04-12T17:48:13.164Z"
   },
   {
    "duration": 2,
    "start_time": "2025-04-12T17:48:13.440Z"
   },
   {
    "duration": 802,
    "start_time": "2025-04-12T17:48:24.765Z"
   },
   {
    "duration": 419,
    "start_time": "2025-04-12T17:48:25.569Z"
   },
   {
    "duration": 104,
    "start_time": "2025-04-12T17:48:25.990Z"
   },
   {
    "duration": 27,
    "start_time": "2025-04-12T17:48:26.096Z"
   },
   {
    "duration": 53,
    "start_time": "2025-04-12T17:48:26.125Z"
   },
   {
    "duration": 230,
    "start_time": "2025-04-12T17:48:26.180Z"
   },
   {
    "duration": 20,
    "start_time": "2025-04-12T17:48:26.412Z"
   },
   {
    "duration": 101,
    "start_time": "2025-04-12T17:48:26.434Z"
   },
   {
    "duration": 3,
    "start_time": "2025-04-12T17:48:26.537Z"
   },
   {
    "duration": 1092,
    "start_time": "2025-04-12T17:48:26.544Z"
   },
   {
    "duration": 264,
    "start_time": "2025-04-12T17:48:27.641Z"
   },
   {
    "duration": 3,
    "start_time": "2025-04-12T17:48:27.907Z"
   },
   {
    "duration": 96540,
    "start_time": "2025-04-12T17:48:27.924Z"
   },
   {
    "duration": 293,
    "start_time": "2025-04-12T17:50:04.466Z"
   },
   {
    "duration": 824,
    "start_time": "2025-04-12T18:13:44.870Z"
   },
   {
    "duration": 438,
    "start_time": "2025-04-12T18:13:45.697Z"
   },
   {
    "duration": 117,
    "start_time": "2025-04-12T18:13:46.137Z"
   },
   {
    "duration": 25,
    "start_time": "2025-04-12T18:13:46.256Z"
   },
   {
    "duration": 89,
    "start_time": "2025-04-12T18:13:46.284Z"
   },
   {
    "duration": 228,
    "start_time": "2025-04-12T18:13:46.375Z"
   },
   {
    "duration": 22,
    "start_time": "2025-04-12T18:13:46.606Z"
   },
   {
    "duration": 108,
    "start_time": "2025-04-12T18:13:46.630Z"
   },
   {
    "duration": 4,
    "start_time": "2025-04-12T18:13:46.740Z"
   },
   {
    "duration": 997,
    "start_time": "2025-04-12T18:13:46.746Z"
   },
   {
    "duration": 291,
    "start_time": "2025-04-12T18:13:47.744Z"
   },
   {
    "duration": 2,
    "start_time": "2025-04-12T18:13:48.038Z"
   },
   {
    "duration": 95376,
    "start_time": "2025-04-12T18:13:48.042Z"
   },
   {
    "duration": 210,
    "start_time": "2025-04-12T18:15:23.424Z"
   },
   {
    "duration": 3,
    "start_time": "2025-04-12T18:15:23.636Z"
   },
   {
    "duration": 805,
    "start_time": "2025-04-12T18:39:07.301Z"
   },
   {
    "duration": 441,
    "start_time": "2025-04-12T18:39:08.108Z"
   },
   {
    "duration": 110,
    "start_time": "2025-04-12T18:39:08.551Z"
   },
   {
    "duration": 21,
    "start_time": "2025-04-12T18:39:08.663Z"
   },
   {
    "duration": 63,
    "start_time": "2025-04-12T18:39:08.687Z"
   },
   {
    "duration": 258,
    "start_time": "2025-04-12T18:39:08.751Z"
   },
   {
    "duration": 17,
    "start_time": "2025-04-12T18:39:09.010Z"
   },
   {
    "duration": 109,
    "start_time": "2025-04-12T18:39:09.029Z"
   },
   {
    "duration": 4,
    "start_time": "2025-04-12T18:39:09.139Z"
   },
   {
    "duration": 1310,
    "start_time": "2025-04-12T18:39:09.144Z"
   },
   {
    "duration": 315,
    "start_time": "2025-04-12T18:39:10.460Z"
   },
   {
    "duration": 3,
    "start_time": "2025-04-12T18:39:10.777Z"
   },
   {
    "duration": 102353,
    "start_time": "2025-04-12T18:39:10.781Z"
   },
   {
    "duration": 227,
    "start_time": "2025-04-12T18:40:53.138Z"
   },
   {
    "duration": 3,
    "start_time": "2025-04-12T18:40:53.368Z"
   },
   {
    "duration": 729,
    "start_time": "2025-04-12T18:48:17.916Z"
   },
   {
    "duration": 399,
    "start_time": "2025-04-12T18:48:18.648Z"
   },
   {
    "duration": 115,
    "start_time": "2025-04-12T18:48:19.049Z"
   },
   {
    "duration": 20,
    "start_time": "2025-04-12T18:48:19.166Z"
   },
   {
    "duration": 65,
    "start_time": "2025-04-12T18:48:19.189Z"
   },
   {
    "duration": 234,
    "start_time": "2025-04-12T18:48:19.256Z"
   },
   {
    "duration": 13,
    "start_time": "2025-04-12T18:48:19.491Z"
   },
   {
    "duration": 109,
    "start_time": "2025-04-12T18:48:19.505Z"
   },
   {
    "duration": 3,
    "start_time": "2025-04-12T18:48:19.615Z"
   },
   {
    "duration": 1000,
    "start_time": "2025-04-12T18:48:19.625Z"
   },
   {
    "duration": 242,
    "start_time": "2025-04-12T18:48:20.627Z"
   },
   {
    "duration": 2,
    "start_time": "2025-04-12T18:48:20.871Z"
   },
   {
    "duration": 92745,
    "start_time": "2025-04-12T18:48:20.875Z"
   },
   {
    "duration": 211,
    "start_time": "2025-04-12T18:49:53.625Z"
   },
   {
    "duration": 2,
    "start_time": "2025-04-12T18:49:53.839Z"
   },
   {
    "duration": 803,
    "start_time": "2025-04-12T18:55:14.242Z"
   },
   {
    "duration": 431,
    "start_time": "2025-04-12T18:55:15.047Z"
   },
   {
    "duration": 104,
    "start_time": "2025-04-12T18:55:15.480Z"
   },
   {
    "duration": 20,
    "start_time": "2025-04-12T18:55:15.587Z"
   },
   {
    "duration": 61,
    "start_time": "2025-04-12T18:55:15.609Z"
   },
   {
    "duration": 225,
    "start_time": "2025-04-12T18:55:15.672Z"
   },
   {
    "duration": 12,
    "start_time": "2025-04-12T18:55:15.898Z"
   },
   {
    "duration": 102,
    "start_time": "2025-04-12T18:55:15.912Z"
   },
   {
    "duration": 9,
    "start_time": "2025-04-12T18:55:16.016Z"
   },
   {
    "duration": 997,
    "start_time": "2025-04-12T18:55:16.028Z"
   },
   {
    "duration": 255,
    "start_time": "2025-04-12T18:55:17.028Z"
   },
   {
    "duration": 4,
    "start_time": "2025-04-12T18:55:17.285Z"
   },
   {
    "duration": 91700,
    "start_time": "2025-04-12T18:55:17.291Z"
   },
   {
    "duration": 236,
    "start_time": "2025-04-12T18:56:48.993Z"
   },
   {
    "duration": 818,
    "start_time": "2025-04-12T18:57:12.737Z"
   },
   {
    "duration": 459,
    "start_time": "2025-04-12T18:57:13.556Z"
   },
   {
    "duration": 111,
    "start_time": "2025-04-12T18:57:14.017Z"
   },
   {
    "duration": 23,
    "start_time": "2025-04-12T18:57:14.131Z"
   },
   {
    "duration": 68,
    "start_time": "2025-04-12T18:57:14.156Z"
   },
   {
    "duration": 223,
    "start_time": "2025-04-12T18:57:14.226Z"
   },
   {
    "duration": 12,
    "start_time": "2025-04-12T18:57:14.451Z"
   },
   {
    "duration": 102,
    "start_time": "2025-04-12T18:57:14.465Z"
   },
   {
    "duration": 2,
    "start_time": "2025-04-12T18:57:14.569Z"
   },
   {
    "duration": 968,
    "start_time": "2025-04-12T18:57:14.574Z"
   },
   {
    "duration": 287,
    "start_time": "2025-04-12T18:57:15.544Z"
   },
   {
    "duration": 2,
    "start_time": "2025-04-12T18:57:15.833Z"
   },
   {
    "duration": 93080,
    "start_time": "2025-04-12T18:57:15.837Z"
   },
   {
    "duration": 232,
    "start_time": "2025-04-12T18:58:48.924Z"
   },
   {
    "duration": 777,
    "start_time": "2025-04-12T19:00:00.782Z"
   },
   {
    "duration": 442,
    "start_time": "2025-04-12T19:00:01.561Z"
   },
   {
    "duration": 109,
    "start_time": "2025-04-12T19:00:02.004Z"
   },
   {
    "duration": 20,
    "start_time": "2025-04-12T19:00:02.124Z"
   },
   {
    "duration": 54,
    "start_time": "2025-04-12T19:00:02.146Z"
   },
   {
    "duration": 228,
    "start_time": "2025-04-12T19:00:02.202Z"
   },
   {
    "duration": 12,
    "start_time": "2025-04-12T19:00:02.432Z"
   },
   {
    "duration": 105,
    "start_time": "2025-04-12T19:00:02.446Z"
   },
   {
    "duration": 3,
    "start_time": "2025-04-12T19:00:02.553Z"
   },
   {
    "duration": 974,
    "start_time": "2025-04-12T19:00:02.560Z"
   },
   {
    "duration": 270,
    "start_time": "2025-04-12T19:00:03.536Z"
   },
   {
    "duration": 3,
    "start_time": "2025-04-12T19:00:03.808Z"
   },
   {
    "duration": 93854,
    "start_time": "2025-04-12T19:00:03.813Z"
   },
   {
    "duration": 239,
    "start_time": "2025-04-12T19:01:37.668Z"
   },
   {
    "duration": 815,
    "start_time": "2025-04-12T19:03:43.571Z"
   },
   {
    "duration": 467,
    "start_time": "2025-04-12T19:03:44.388Z"
   },
   {
    "duration": 111,
    "start_time": "2025-04-12T19:03:44.857Z"
   },
   {
    "duration": 21,
    "start_time": "2025-04-12T19:03:44.970Z"
   },
   {
    "duration": 69,
    "start_time": "2025-04-12T19:03:44.994Z"
   },
   {
    "duration": 234,
    "start_time": "2025-04-12T19:03:45.065Z"
   },
   {
    "duration": 23,
    "start_time": "2025-04-12T19:03:45.301Z"
   },
   {
    "duration": 107,
    "start_time": "2025-04-12T19:03:45.325Z"
   },
   {
    "duration": 3,
    "start_time": "2025-04-12T19:03:45.433Z"
   },
   {
    "duration": 1087,
    "start_time": "2025-04-12T19:03:45.438Z"
   },
   {
    "duration": 240,
    "start_time": "2025-04-12T19:03:46.527Z"
   },
   {
    "duration": 3,
    "start_time": "2025-04-12T19:03:46.769Z"
   },
   {
    "duration": 94651,
    "start_time": "2025-04-12T19:03:46.774Z"
   },
   {
    "duration": 230,
    "start_time": "2025-04-12T19:05:21.428Z"
   },
   {
    "duration": 160,
    "start_time": "2025-04-12T19:11:47.837Z"
   },
   {
    "duration": 934,
    "start_time": "2025-04-12T19:11:59.744Z"
   },
   {
    "duration": 550,
    "start_time": "2025-04-12T19:12:00.680Z"
   },
   {
    "duration": 118,
    "start_time": "2025-04-12T19:12:01.233Z"
   },
   {
    "duration": 20,
    "start_time": "2025-04-12T19:12:01.354Z"
   },
   {
    "duration": 68,
    "start_time": "2025-04-12T19:12:01.377Z"
   },
   {
    "duration": 230,
    "start_time": "2025-04-12T19:12:01.448Z"
   },
   {
    "duration": 14,
    "start_time": "2025-04-12T19:12:01.680Z"
   },
   {
    "duration": 121,
    "start_time": "2025-04-12T19:12:01.697Z"
   },
   {
    "duration": 4,
    "start_time": "2025-04-12T19:12:01.820Z"
   },
   {
    "duration": 1100,
    "start_time": "2025-04-12T19:12:01.826Z"
   },
   {
    "duration": 260,
    "start_time": "2025-04-12T19:12:02.930Z"
   },
   {
    "duration": 3,
    "start_time": "2025-04-12T19:12:03.192Z"
   },
   {
    "duration": 94560,
    "start_time": "2025-04-12T19:12:03.196Z"
   },
   {
    "duration": 220,
    "start_time": "2025-04-12T19:13:37.760Z"
   },
   {
    "duration": 814,
    "start_time": "2025-04-12T19:25:20.659Z"
   },
   {
    "duration": 426,
    "start_time": "2025-04-12T19:25:21.475Z"
   },
   {
    "duration": 125,
    "start_time": "2025-04-12T19:25:21.905Z"
   },
   {
    "duration": 21,
    "start_time": "2025-04-12T19:25:22.033Z"
   },
   {
    "duration": 69,
    "start_time": "2025-04-12T19:25:22.058Z"
   },
   {
    "duration": 224,
    "start_time": "2025-04-12T19:25:22.129Z"
   },
   {
    "duration": 12,
    "start_time": "2025-04-12T19:25:22.355Z"
   },
   {
    "duration": 113,
    "start_time": "2025-04-12T19:25:22.369Z"
   },
   {
    "duration": 3,
    "start_time": "2025-04-12T19:25:22.484Z"
   },
   {
    "duration": 1037,
    "start_time": "2025-04-12T19:25:22.488Z"
   },
   {
    "duration": 258,
    "start_time": "2025-04-12T19:25:23.528Z"
   },
   {
    "duration": 2,
    "start_time": "2025-04-12T19:25:23.788Z"
   },
   {
    "duration": 94122,
    "start_time": "2025-04-12T19:25:23.792Z"
   },
   {
    "duration": 214,
    "start_time": "2025-04-12T19:26:57.923Z"
   },
   {
    "duration": 824,
    "start_time": "2025-04-12T19:30:46.221Z"
   },
   {
    "duration": 488,
    "start_time": "2025-04-12T19:30:47.048Z"
   },
   {
    "duration": 112,
    "start_time": "2025-04-12T19:30:47.538Z"
   },
   {
    "duration": 22,
    "start_time": "2025-04-12T19:30:47.651Z"
   },
   {
    "duration": 67,
    "start_time": "2025-04-12T19:30:47.676Z"
   },
   {
    "duration": 218,
    "start_time": "2025-04-12T19:30:47.745Z"
   },
   {
    "duration": 12,
    "start_time": "2025-04-12T19:30:47.965Z"
   },
   {
    "duration": 103,
    "start_time": "2025-04-12T19:30:47.978Z"
   },
   {
    "duration": 3,
    "start_time": "2025-04-12T19:30:48.083Z"
   },
   {
    "duration": 1037,
    "start_time": "2025-04-12T19:30:48.088Z"
   },
   {
    "duration": 254,
    "start_time": "2025-04-12T19:30:49.127Z"
   },
   {
    "duration": 3,
    "start_time": "2025-04-12T19:30:49.383Z"
   },
   {
    "duration": 94013,
    "start_time": "2025-04-12T19:30:49.388Z"
   },
   {
    "duration": 247,
    "start_time": "2025-04-12T19:32:23.404Z"
   },
   {
    "duration": 27296,
    "start_time": "2025-04-12T19:32:23.653Z"
   },
   {
    "duration": 776,
    "start_time": "2025-04-12T19:33:53.095Z"
   },
   {
    "duration": 432,
    "start_time": "2025-04-12T19:33:53.874Z"
   },
   {
    "duration": 108,
    "start_time": "2025-04-12T19:33:54.308Z"
   },
   {
    "duration": 22,
    "start_time": "2025-04-12T19:33:54.424Z"
   },
   {
    "duration": 51,
    "start_time": "2025-04-12T19:33:54.449Z"
   },
   {
    "duration": 234,
    "start_time": "2025-04-12T19:33:54.502Z"
   },
   {
    "duration": 13,
    "start_time": "2025-04-12T19:33:54.737Z"
   },
   {
    "duration": 104,
    "start_time": "2025-04-12T19:33:54.752Z"
   },
   {
    "duration": 3,
    "start_time": "2025-04-12T19:33:54.858Z"
   },
   {
    "duration": 1068,
    "start_time": "2025-04-12T19:33:54.863Z"
   },
   {
    "duration": 258,
    "start_time": "2025-04-12T19:33:55.933Z"
   },
   {
    "duration": 3,
    "start_time": "2025-04-12T19:33:56.193Z"
   },
   {
    "duration": 94234,
    "start_time": "2025-04-12T19:33:56.198Z"
   },
   {
    "duration": 261,
    "start_time": "2025-04-12T19:35:30.436Z"
   },
   {
    "duration": 27128,
    "start_time": "2025-04-12T19:35:30.699Z"
   },
   {
    "duration": 214,
    "start_time": "2025-04-12T20:36:11.402Z"
   },
   {
    "duration": 853,
    "start_time": "2025-04-12T20:36:37.049Z"
   },
   {
    "duration": 409,
    "start_time": "2025-04-12T20:36:37.905Z"
   },
   {
    "duration": 125,
    "start_time": "2025-04-12T20:36:38.315Z"
   },
   {
    "duration": 19,
    "start_time": "2025-04-12T20:36:38.442Z"
   },
   {
    "duration": 69,
    "start_time": "2025-04-12T20:36:38.464Z"
   },
   {
    "duration": 223,
    "start_time": "2025-04-12T20:36:38.535Z"
   },
   {
    "duration": 14,
    "start_time": "2025-04-12T20:36:38.760Z"
   },
   {
    "duration": 105,
    "start_time": "2025-04-12T20:36:38.775Z"
   },
   {
    "duration": 3,
    "start_time": "2025-04-12T20:36:38.881Z"
   },
   {
    "duration": 1038,
    "start_time": "2025-04-12T20:36:38.886Z"
   },
   {
    "duration": 227,
    "start_time": "2025-04-12T20:36:39.926Z"
   },
   {
    "duration": 2,
    "start_time": "2025-04-12T20:36:40.155Z"
   },
   {
    "duration": 92719,
    "start_time": "2025-04-12T20:36:40.159Z"
   },
   {
    "duration": 212,
    "start_time": "2025-04-12T20:38:12.882Z"
   },
   {
    "duration": 25661,
    "start_time": "2025-04-12T20:38:13.097Z"
   },
   {
    "duration": 3,
    "start_time": "2025-04-12T20:38:38.760Z"
   },
   {
    "duration": 10465,
    "start_time": "2025-04-12T20:38:38.764Z"
   },
   {
    "duration": 96,
    "start_time": "2025-04-12T20:38:49.231Z"
   },
   {
    "duration": 908,
    "start_time": "2025-04-12T21:18:09.621Z"
   },
   {
    "duration": 404,
    "start_time": "2025-04-12T21:18:10.531Z"
   },
   {
    "duration": 107,
    "start_time": "2025-04-12T21:18:10.937Z"
   },
   {
    "duration": 12,
    "start_time": "2025-04-12T21:18:11.046Z"
   },
   {
    "duration": 67,
    "start_time": "2025-04-12T21:18:11.061Z"
   },
   {
    "duration": 213,
    "start_time": "2025-04-12T21:18:11.129Z"
   },
   {
    "duration": 11,
    "start_time": "2025-04-12T21:18:11.344Z"
   },
   {
    "duration": 101,
    "start_time": "2025-04-12T21:18:11.357Z"
   },
   {
    "duration": 3,
    "start_time": "2025-04-12T21:18:11.459Z"
   },
   {
    "duration": 980,
    "start_time": "2025-04-12T21:18:11.464Z"
   },
   {
    "duration": 216,
    "start_time": "2025-04-12T21:18:12.525Z"
   },
   {
    "duration": 3,
    "start_time": "2025-04-12T21:18:12.742Z"
   },
   {
    "duration": 91051,
    "start_time": "2025-04-12T21:18:12.747Z"
   },
   {
    "duration": 217,
    "start_time": "2025-04-12T21:19:43.802Z"
   },
   {
    "duration": 25523,
    "start_time": "2025-04-12T21:19:44.023Z"
   },
   {
    "duration": 3,
    "start_time": "2025-04-12T21:20:09.548Z"
   },
   {
    "duration": 10186,
    "start_time": "2025-04-12T21:20:09.553Z"
   },
   {
    "duration": 85,
    "start_time": "2025-04-12T21:20:19.741Z"
   },
   {
    "duration": 211,
    "start_time": "2025-04-12T21:20:19.828Z"
   },
   {
    "duration": 6683,
    "start_time": "2025-04-12T21:20:20.040Z"
   },
   {
    "duration": 600,
    "start_time": "2025-04-12T21:20:26.725Z"
   },
   {
    "duration": 922,
    "start_time": "2025-04-12T21:47:39.561Z"
   },
   {
    "duration": 405,
    "start_time": "2025-04-12T21:47:40.486Z"
   },
   {
    "duration": 110,
    "start_time": "2025-04-12T21:47:40.897Z"
   },
   {
    "duration": 22,
    "start_time": "2025-04-12T21:47:41.008Z"
   },
   {
    "duration": 51,
    "start_time": "2025-04-12T21:47:41.031Z"
   },
   {
    "duration": 225,
    "start_time": "2025-04-12T21:47:41.084Z"
   },
   {
    "duration": 16,
    "start_time": "2025-04-12T21:47:41.311Z"
   },
   {
    "duration": 99,
    "start_time": "2025-04-12T21:47:41.329Z"
   },
   {
    "duration": 3,
    "start_time": "2025-04-12T21:47:41.430Z"
   },
   {
    "duration": 1008,
    "start_time": "2025-04-12T21:47:41.435Z"
   },
   {
    "duration": 286,
    "start_time": "2025-04-12T21:47:42.445Z"
   },
   {
    "duration": 2,
    "start_time": "2025-04-12T21:47:42.735Z"
   },
   {
    "duration": 92139,
    "start_time": "2025-04-12T21:47:42.738Z"
   },
   {
    "duration": 208,
    "start_time": "2025-04-12T21:49:14.879Z"
   },
   {
    "duration": 26342,
    "start_time": "2025-04-12T21:49:15.089Z"
   },
   {
    "duration": 3,
    "start_time": "2025-04-12T21:49:41.433Z"
   },
   {
    "duration": 10486,
    "start_time": "2025-04-12T21:49:41.439Z"
   },
   {
    "duration": 99,
    "start_time": "2025-04-12T21:49:51.927Z"
   },
   {
    "duration": 241,
    "start_time": "2025-04-12T21:49:52.027Z"
   },
   {
    "duration": 7359,
    "start_time": "2025-04-12T21:49:52.269Z"
   },
   {
    "duration": 609,
    "start_time": "2025-04-12T21:49:59.630Z"
   },
   {
    "duration": 397,
    "start_time": "2025-04-12T21:50:00.241Z"
   },
   {
    "duration": 0,
    "start_time": "2025-04-12T21:50:00.640Z"
   },
   {
    "duration": 36,
    "start_time": "2025-04-12T21:51:33.941Z"
   },
   {
    "duration": 480,
    "start_time": "2025-04-12T21:51:48.326Z"
   },
   {
    "duration": 88,
    "start_time": "2025-04-12T21:53:46.585Z"
   },
   {
    "duration": 85,
    "start_time": "2025-04-12T21:54:13.104Z"
   },
   {
    "duration": 24,
    "start_time": "2025-04-12T21:55:23.602Z"
   },
   {
    "duration": 881,
    "start_time": "2025-04-12T22:00:46.487Z"
   },
   {
    "duration": 401,
    "start_time": "2025-04-12T22:00:47.370Z"
   },
   {
    "duration": 107,
    "start_time": "2025-04-12T22:00:47.775Z"
   },
   {
    "duration": 13,
    "start_time": "2025-04-12T22:00:47.884Z"
   },
   {
    "duration": 67,
    "start_time": "2025-04-12T22:00:47.899Z"
   },
   {
    "duration": 212,
    "start_time": "2025-04-12T22:00:47.967Z"
   },
   {
    "duration": 13,
    "start_time": "2025-04-12T22:00:48.181Z"
   },
   {
    "duration": 102,
    "start_time": "2025-04-12T22:00:48.196Z"
   },
   {
    "duration": 3,
    "start_time": "2025-04-12T22:00:48.299Z"
   },
   {
    "duration": 1032,
    "start_time": "2025-04-12T22:00:48.305Z"
   },
   {
    "duration": 276,
    "start_time": "2025-04-12T22:00:49.338Z"
   },
   {
    "duration": 9,
    "start_time": "2025-04-12T22:00:49.616Z"
   },
   {
    "duration": 92173,
    "start_time": "2025-04-12T22:00:49.628Z"
   },
   {
    "duration": 228,
    "start_time": "2025-04-12T22:02:21.803Z"
   },
   {
    "duration": 26000,
    "start_time": "2025-04-12T22:02:22.033Z"
   },
   {
    "duration": 3,
    "start_time": "2025-04-12T22:02:48.035Z"
   },
   {
    "duration": 10251,
    "start_time": "2025-04-12T22:02:48.039Z"
   },
   {
    "duration": 83,
    "start_time": "2025-04-12T22:02:58.291Z"
   },
   {
    "duration": 205,
    "start_time": "2025-04-12T22:02:58.376Z"
   },
   {
    "duration": 6857,
    "start_time": "2025-04-12T22:02:58.583Z"
   },
   {
    "duration": 599,
    "start_time": "2025-04-12T22:03:05.442Z"
   },
   {
    "duration": 109,
    "start_time": "2025-04-12T22:03:06.043Z"
   },
   {
    "duration": 25,
    "start_time": "2025-04-12T22:03:06.154Z"
   },
   {
    "duration": 769,
    "start_time": "2025-04-12T22:03:06.182Z"
   },
   {
    "duration": 38,
    "start_time": "2025-04-12T22:06:05.120Z"
   },
   {
    "duration": 22,
    "start_time": "2025-04-12T22:06:12.631Z"
   },
   {
    "duration": 942,
    "start_time": "2025-04-12T22:06:26.714Z"
   },
   {
    "duration": 425,
    "start_time": "2025-04-12T22:06:27.658Z"
   },
   {
    "duration": 115,
    "start_time": "2025-04-12T22:06:28.088Z"
   },
   {
    "duration": 22,
    "start_time": "2025-04-12T22:06:28.205Z"
   },
   {
    "duration": 53,
    "start_time": "2025-04-12T22:06:28.229Z"
   },
   {
    "duration": 223,
    "start_time": "2025-04-12T22:06:28.283Z"
   },
   {
    "duration": 16,
    "start_time": "2025-04-12T22:06:28.509Z"
   },
   {
    "duration": 102,
    "start_time": "2025-04-12T22:06:28.526Z"
   },
   {
    "duration": 3,
    "start_time": "2025-04-12T22:06:28.632Z"
   },
   {
    "duration": 1102,
    "start_time": "2025-04-12T22:06:28.638Z"
   },
   {
    "duration": 306,
    "start_time": "2025-04-12T22:06:29.742Z"
   },
   {
    "duration": 4,
    "start_time": "2025-04-12T22:06:30.050Z"
   },
   {
    "duration": 94108,
    "start_time": "2025-04-12T22:06:30.056Z"
   },
   {
    "duration": 226,
    "start_time": "2025-04-12T22:08:04.165Z"
   },
   {
    "duration": 27020,
    "start_time": "2025-04-12T22:08:04.393Z"
   },
   {
    "duration": 11,
    "start_time": "2025-04-12T22:08:31.414Z"
   },
   {
    "duration": 10240,
    "start_time": "2025-04-12T22:08:31.427Z"
   },
   {
    "duration": 88,
    "start_time": "2025-04-12T22:08:41.669Z"
   },
   {
    "duration": 218,
    "start_time": "2025-04-12T22:08:41.759Z"
   },
   {
    "duration": 6657,
    "start_time": "2025-04-12T22:08:41.979Z"
   },
   {
    "duration": 606,
    "start_time": "2025-04-12T22:08:48.638Z"
   },
   {
    "duration": 98,
    "start_time": "2025-04-12T22:08:49.245Z"
   },
   {
    "duration": 20,
    "start_time": "2025-04-12T22:08:49.345Z"
   },
   {
    "duration": 37,
    "start_time": "2025-04-12T22:08:49.367Z"
   },
   {
    "duration": 33,
    "start_time": "2025-04-12T22:08:49.406Z"
   },
   {
    "duration": 697,
    "start_time": "2025-04-12T22:08:49.441Z"
   },
   {
    "duration": 8519,
    "start_time": "2025-04-12T22:14:26.327Z"
   },
   {
    "duration": 47173,
    "start_time": "2025-04-12T22:16:57.155Z"
   },
   {
    "duration": 1009,
    "start_time": "2025-04-12T22:26:16.742Z"
   },
   {
    "duration": 427,
    "start_time": "2025-04-12T22:26:17.754Z"
   },
   {
    "duration": 112,
    "start_time": "2025-04-12T22:26:18.183Z"
   },
   {
    "duration": 15,
    "start_time": "2025-04-12T22:26:18.297Z"
   },
   {
    "duration": 60,
    "start_time": "2025-04-12T22:26:18.314Z"
   },
   {
    "duration": 228,
    "start_time": "2025-04-12T22:26:18.376Z"
   },
   {
    "duration": 22,
    "start_time": "2025-04-12T22:26:18.606Z"
   },
   {
    "duration": 100,
    "start_time": "2025-04-12T22:26:18.630Z"
   },
   {
    "duration": 3,
    "start_time": "2025-04-12T22:26:18.732Z"
   },
   {
    "duration": 1110,
    "start_time": "2025-04-12T22:26:18.737Z"
   },
   {
    "duration": 222,
    "start_time": "2025-04-12T22:26:19.924Z"
   },
   {
    "duration": 3,
    "start_time": "2025-04-12T22:26:20.148Z"
   },
   {
    "duration": 111020,
    "start_time": "2025-04-12T22:26:20.153Z"
   },
   {
    "duration": 238,
    "start_time": "2025-04-12T22:28:11.178Z"
   },
   {
    "duration": 28857,
    "start_time": "2025-04-12T22:28:11.418Z"
   },
   {
    "duration": 689,
    "start_time": "2025-04-12T22:28:40.277Z"
   },
   {
    "duration": 0,
    "start_time": "2025-04-12T22:28:40.968Z"
   },
   {
    "duration": 0,
    "start_time": "2025-04-12T22:28:40.969Z"
   },
   {
    "duration": 0,
    "start_time": "2025-04-12T22:28:40.970Z"
   },
   {
    "duration": 0,
    "start_time": "2025-04-12T22:28:40.972Z"
   },
   {
    "duration": 0,
    "start_time": "2025-04-12T22:28:40.973Z"
   },
   {
    "duration": 0,
    "start_time": "2025-04-12T22:28:40.975Z"
   },
   {
    "duration": 0,
    "start_time": "2025-04-12T22:28:40.977Z"
   },
   {
    "duration": 0,
    "start_time": "2025-04-12T22:28:40.979Z"
   },
   {
    "duration": 0,
    "start_time": "2025-04-12T22:28:40.980Z"
   },
   {
    "duration": 0,
    "start_time": "2025-04-12T22:28:40.982Z"
   },
   {
    "duration": 980,
    "start_time": "2025-04-12T22:34:48.925Z"
   },
   {
    "duration": 427,
    "start_time": "2025-04-12T22:34:49.907Z"
   },
   {
    "duration": 118,
    "start_time": "2025-04-12T22:34:50.336Z"
   },
   {
    "duration": 19,
    "start_time": "2025-04-12T22:34:50.456Z"
   },
   {
    "duration": 72,
    "start_time": "2025-04-12T22:34:50.478Z"
   },
   {
    "duration": 212,
    "start_time": "2025-04-12T22:34:50.552Z"
   },
   {
    "duration": 11,
    "start_time": "2025-04-12T22:34:50.766Z"
   },
   {
    "duration": 113,
    "start_time": "2025-04-12T22:34:50.779Z"
   },
   {
    "duration": 3,
    "start_time": "2025-04-12T22:34:50.894Z"
   },
   {
    "duration": 1029,
    "start_time": "2025-04-12T22:34:50.898Z"
   },
   {
    "duration": 218,
    "start_time": "2025-04-12T22:34:51.929Z"
   },
   {
    "duration": 3,
    "start_time": "2025-04-12T22:34:52.149Z"
   },
   {
    "duration": 92359,
    "start_time": "2025-04-12T22:34:52.153Z"
   },
   {
    "duration": 211,
    "start_time": "2025-04-12T22:36:24.515Z"
   },
   {
    "duration": 26066,
    "start_time": "2025-04-12T22:36:24.727Z"
   },
   {
    "duration": 201171,
    "start_time": "2025-04-12T22:36:50.795Z"
   },
   {
    "duration": 680,
    "start_time": "2025-04-12T22:40:11.968Z"
   },
   {
    "duration": 3,
    "start_time": "2025-04-12T22:40:12.650Z"
   },
   {
    "duration": 10160,
    "start_time": "2025-04-12T22:40:12.655Z"
   },
   {
    "duration": 82,
    "start_time": "2025-04-12T22:40:22.818Z"
   },
   {
    "duration": 205,
    "start_time": "2025-04-12T22:40:22.902Z"
   },
   {
    "duration": 6732,
    "start_time": "2025-04-12T22:40:23.109Z"
   },
   {
    "duration": 613,
    "start_time": "2025-04-12T22:40:29.842Z"
   },
   {
    "duration": 93,
    "start_time": "2025-04-12T22:40:30.458Z"
   },
   {
    "duration": 21,
    "start_time": "2025-04-12T22:40:30.552Z"
   },
   {
    "duration": 52,
    "start_time": "2025-04-12T22:40:30.575Z"
   },
   {
    "duration": 45912,
    "start_time": "2025-04-12T22:40:30.629Z"
   },
   {
    "duration": 924,
    "start_time": "2025-04-14T22:45:22.454Z"
   },
   {
    "duration": 508,
    "start_time": "2025-04-14T22:45:23.380Z"
   },
   {
    "duration": 109,
    "start_time": "2025-04-14T22:45:23.890Z"
   },
   {
    "duration": 14,
    "start_time": "2025-04-14T22:45:24.002Z"
   },
   {
    "duration": 69,
    "start_time": "2025-04-14T22:45:24.017Z"
   },
   {
    "duration": 209,
    "start_time": "2025-04-14T22:45:24.088Z"
   },
   {
    "duration": 13,
    "start_time": "2025-04-14T22:45:24.299Z"
   },
   {
    "duration": 105,
    "start_time": "2025-04-14T22:45:24.314Z"
   },
   {
    "duration": 3,
    "start_time": "2025-04-14T22:45:24.421Z"
   },
   {
    "duration": 974,
    "start_time": "2025-04-14T22:45:24.429Z"
   },
   {
    "duration": 278,
    "start_time": "2025-04-14T22:45:25.405Z"
   },
   {
    "duration": 2,
    "start_time": "2025-04-14T22:45:25.686Z"
   },
   {
    "duration": 91909,
    "start_time": "2025-04-14T22:45:25.690Z"
   },
   {
    "duration": 210,
    "start_time": "2025-04-14T22:46:57.601Z"
   },
   {
    "duration": 26281,
    "start_time": "2025-04-14T22:46:57.814Z"
   },
   {
    "duration": 310,
    "start_time": "2025-04-14T22:47:24.097Z"
   },
   {
    "duration": 0,
    "start_time": "2025-04-14T22:47:24.409Z"
   },
   {
    "duration": 0,
    "start_time": "2025-04-14T22:47:24.410Z"
   },
   {
    "duration": 0,
    "start_time": "2025-04-14T22:47:24.412Z"
   },
   {
    "duration": 0,
    "start_time": "2025-04-14T22:47:24.413Z"
   },
   {
    "duration": 0,
    "start_time": "2025-04-14T22:47:24.415Z"
   },
   {
    "duration": 0,
    "start_time": "2025-04-14T22:47:24.416Z"
   },
   {
    "duration": 0,
    "start_time": "2025-04-14T22:47:24.418Z"
   },
   {
    "duration": 0,
    "start_time": "2025-04-14T22:47:24.419Z"
   },
   {
    "duration": 0,
    "start_time": "2025-04-14T22:47:24.422Z"
   },
   {
    "duration": 0,
    "start_time": "2025-04-14T22:47:24.423Z"
   },
   {
    "duration": 0,
    "start_time": "2025-04-14T22:47:24.425Z"
   },
   {
    "duration": 897,
    "start_time": "2025-04-14T22:48:26.646Z"
   },
   {
    "duration": 412,
    "start_time": "2025-04-14T22:48:27.545Z"
   },
   {
    "duration": 109,
    "start_time": "2025-04-14T22:48:27.960Z"
   },
   {
    "duration": 23,
    "start_time": "2025-04-14T22:48:28.073Z"
   },
   {
    "duration": 51,
    "start_time": "2025-04-14T22:48:28.098Z"
   },
   {
    "duration": 227,
    "start_time": "2025-04-14T22:48:28.150Z"
   },
   {
    "duration": 17,
    "start_time": "2025-04-14T22:48:28.379Z"
   },
   {
    "duration": 97,
    "start_time": "2025-04-14T22:48:28.397Z"
   },
   {
    "duration": 4,
    "start_time": "2025-04-14T22:48:28.495Z"
   },
   {
    "duration": 1087,
    "start_time": "2025-04-14T22:48:28.502Z"
   },
   {
    "duration": 245,
    "start_time": "2025-04-14T22:48:29.594Z"
   },
   {
    "duration": 2,
    "start_time": "2025-04-14T22:48:29.841Z"
   },
   {
    "duration": 91520,
    "start_time": "2025-04-14T22:48:29.845Z"
   },
   {
    "duration": 238,
    "start_time": "2025-04-14T22:50:01.368Z"
   },
   {
    "duration": 25640,
    "start_time": "2025-04-14T22:50:01.608Z"
   },
   {
    "duration": 602451,
    "start_time": "2025-04-14T22:50:27.250Z"
   },
   {
    "duration": 233,
    "start_time": "2025-04-14T23:00:29.703Z"
   },
   {
    "duration": 0,
    "start_time": "2025-04-14T23:00:29.938Z"
   },
   {
    "duration": 0,
    "start_time": "2025-04-14T23:00:29.939Z"
   },
   {
    "duration": 0,
    "start_time": "2025-04-14T23:00:29.940Z"
   },
   {
    "duration": 0,
    "start_time": "2025-04-14T23:00:29.942Z"
   },
   {
    "duration": 0,
    "start_time": "2025-04-14T23:00:29.944Z"
   },
   {
    "duration": 0,
    "start_time": "2025-04-14T23:00:29.945Z"
   },
   {
    "duration": 0,
    "start_time": "2025-04-14T23:00:29.946Z"
   },
   {
    "duration": 0,
    "start_time": "2025-04-14T23:00:29.948Z"
   },
   {
    "duration": 0,
    "start_time": "2025-04-14T23:00:29.949Z"
   },
   {
    "duration": 0,
    "start_time": "2025-04-14T23:00:29.951Z"
   },
   {
    "duration": 1125,
    "start_time": "2025-04-14T23:05:43.750Z"
   },
   {
    "duration": 3,
    "start_time": "2025-04-14T23:08:21.093Z"
   },
   {
    "duration": 11178,
    "start_time": "2025-04-14T23:08:22.046Z"
   },
   {
    "duration": 87,
    "start_time": "2025-04-14T23:08:33.226Z"
   },
   {
    "duration": 256,
    "start_time": "2025-04-14T23:08:42.941Z"
   },
   {
    "duration": 7330,
    "start_time": "2025-04-14T23:08:46.961Z"
   },
   {
    "duration": 614,
    "start_time": "2025-04-14T23:08:54.294Z"
   },
   {
    "duration": 30,
    "start_time": "2025-04-14T23:09:00.946Z"
   },
   {
    "duration": 21,
    "start_time": "2025-04-14T23:09:02.383Z"
   },
   {
    "duration": 39,
    "start_time": "2025-04-14T23:09:03.937Z"
   },
   {
    "duration": 49789,
    "start_time": "2025-04-14T23:09:07.304Z"
   },
   {
    "duration": 17,
    "start_time": "2025-04-14T23:14:37.333Z"
   },
   {
    "duration": 18,
    "start_time": "2025-04-14T23:15:25.212Z"
   },
   {
    "duration": 6,
    "start_time": "2025-04-14T23:16:01.794Z"
   },
   {
    "duration": 17,
    "start_time": "2025-04-14T23:16:48.709Z"
   },
   {
    "duration": 7,
    "start_time": "2025-04-14T23:16:57.534Z"
   },
   {
    "duration": 7,
    "start_time": "2025-04-14T23:20:52.100Z"
   },
   {
    "duration": 2112,
    "start_time": "2025-04-14T23:22:12.428Z"
   },
   {
    "duration": 4,
    "start_time": "2025-04-14T23:22:52.042Z"
   },
   {
    "duration": 148,
    "start_time": "2025-04-14T23:27:18.276Z"
   },
   {
    "duration": 151,
    "start_time": "2025-04-14T23:28:09.014Z"
   },
   {
    "duration": 3,
    "start_time": "2025-04-14T23:28:34.246Z"
   },
   {
    "duration": 4,
    "start_time": "2025-04-14T23:28:40.973Z"
   },
   {
    "duration": 145,
    "start_time": "2025-04-14T23:28:42.740Z"
   },
   {
    "duration": 334,
    "start_time": "2025-04-14T23:29:55.312Z"
   },
   {
    "duration": 272,
    "start_time": "2025-04-14T23:29:59.661Z"
   },
   {
    "duration": 46,
    "start_time": "2025-04-14T23:31:36.362Z"
   },
   {
    "duration": 264,
    "start_time": "2025-04-14T23:31:43.893Z"
   },
   {
    "duration": 16,
    "start_time": "2025-04-14T23:32:53.238Z"
   },
   {
    "duration": 41,
    "start_time": "2025-04-14T23:33:52.102Z"
   },
   {
    "duration": 19,
    "start_time": "2025-04-14T23:36:12.594Z"
   },
   {
    "duration": 17,
    "start_time": "2025-04-14T23:36:32.610Z"
   },
   {
    "duration": 13,
    "start_time": "2025-04-14T23:37:01.682Z"
   },
   {
    "duration": 8,
    "start_time": "2025-04-16T01:43:08.468Z"
   },
   {
    "duration": 186,
    "start_time": "2025-04-16T02:11:01.319Z"
   },
   {
    "duration": 2704,
    "start_time": "2025-04-16T02:17:07.631Z"
   },
   {
    "duration": 465,
    "start_time": "2025-04-16T02:17:10.337Z"
   },
   {
    "duration": 113,
    "start_time": "2025-04-16T02:17:10.803Z"
   },
   {
    "duration": 18,
    "start_time": "2025-04-16T02:17:10.919Z"
   },
   {
    "duration": 70,
    "start_time": "2025-04-16T02:17:10.940Z"
   },
   {
    "duration": 224,
    "start_time": "2025-04-16T02:17:11.013Z"
   },
   {
    "duration": 11,
    "start_time": "2025-04-16T02:17:11.239Z"
   },
   {
    "duration": 107,
    "start_time": "2025-04-16T02:17:11.252Z"
   },
   {
    "duration": 3,
    "start_time": "2025-04-16T02:17:11.361Z"
   },
   {
    "duration": 1036,
    "start_time": "2025-04-16T02:17:11.365Z"
   },
   {
    "duration": 261,
    "start_time": "2025-04-16T02:17:12.403Z"
   },
   {
    "duration": 2,
    "start_time": "2025-04-16T02:17:12.666Z"
   },
   {
    "duration": 91424,
    "start_time": "2025-04-16T02:17:12.670Z"
   },
   {
    "duration": 210,
    "start_time": "2025-04-16T02:18:44.098Z"
   },
   {
    "duration": 25793,
    "start_time": "2025-04-16T02:18:44.310Z"
   },
   {
    "duration": 593121,
    "start_time": "2025-04-16T02:19:10.105Z"
   },
   {
    "duration": 1190,
    "start_time": "2025-04-16T02:29:03.227Z"
   },
   {
    "duration": 4,
    "start_time": "2025-04-16T02:29:04.419Z"
   },
   {
    "duration": 10405,
    "start_time": "2025-04-16T02:29:04.425Z"
   },
   {
    "duration": 83,
    "start_time": "2025-04-16T02:29:14.832Z"
   },
   {
    "duration": 210,
    "start_time": "2025-04-16T02:29:14.917Z"
   },
   {
    "duration": 7162,
    "start_time": "2025-04-16T02:29:15.129Z"
   },
   {
    "duration": 612,
    "start_time": "2025-04-16T02:29:22.292Z"
   },
   {
    "duration": 83,
    "start_time": "2025-04-16T02:29:22.906Z"
   },
   {
    "duration": 19,
    "start_time": "2025-04-16T02:29:22.991Z"
   },
   {
    "duration": 39,
    "start_time": "2025-04-16T02:29:23.012Z"
   },
   {
    "duration": 51168,
    "start_time": "2025-04-16T02:29:23.052Z"
   },
   {
    "duration": 68,
    "start_time": "2025-04-16T02:30:14.223Z"
   },
   {
    "duration": 295,
    "start_time": "2025-04-16T02:30:14.293Z"
   },
   {
    "duration": 319,
    "start_time": "2025-04-16T02:30:14.590Z"
   },
   {
    "duration": 512,
    "start_time": "2025-04-16T02:30:14.912Z"
   },
   {
    "duration": 401,
    "start_time": "2025-04-16T02:32:59.546Z"
   },
   {
    "duration": 97,
    "start_time": "2025-04-16T02:33:17.934Z"
   },
   {
    "duration": 89,
    "start_time": "2025-04-16T02:34:59.322Z"
   },
   {
    "duration": 86,
    "start_time": "2025-04-16T02:36:51.197Z"
   },
   {
    "duration": 1187,
    "start_time": "2025-04-16T02:40:21.426Z"
   },
   {
    "duration": 414,
    "start_time": "2025-04-16T02:40:22.616Z"
   },
   {
    "duration": 110,
    "start_time": "2025-04-16T02:40:23.032Z"
   },
   {
    "duration": 19,
    "start_time": "2025-04-16T02:40:23.144Z"
   },
   {
    "duration": 66,
    "start_time": "2025-04-16T02:40:23.167Z"
   },
   {
    "duration": 225,
    "start_time": "2025-04-16T02:40:23.234Z"
   },
   {
    "duration": 12,
    "start_time": "2025-04-16T02:40:23.461Z"
   },
   {
    "duration": 105,
    "start_time": "2025-04-16T02:40:23.475Z"
   },
   {
    "duration": 3,
    "start_time": "2025-04-16T02:40:23.586Z"
   },
   {
    "duration": 1006,
    "start_time": "2025-04-16T02:40:23.591Z"
   },
   {
    "duration": 270,
    "start_time": "2025-04-16T02:40:24.599Z"
   },
   {
    "duration": 2,
    "start_time": "2025-04-16T02:40:24.871Z"
   },
   {
    "duration": 91800,
    "start_time": "2025-04-16T02:40:24.875Z"
   },
   {
    "duration": 211,
    "start_time": "2025-04-16T02:41:56.678Z"
   },
   {
    "duration": 26004,
    "start_time": "2025-04-16T02:41:56.891Z"
   },
   {
    "duration": 592039,
    "start_time": "2025-04-16T02:42:22.897Z"
   },
   {
    "duration": 1129,
    "start_time": "2025-04-16T02:52:14.938Z"
   },
   {
    "duration": 3,
    "start_time": "2025-04-16T02:52:16.070Z"
   },
   {
    "duration": 10239,
    "start_time": "2025-04-16T02:52:16.075Z"
   },
   {
    "duration": 85,
    "start_time": "2025-04-16T02:52:26.316Z"
   },
   {
    "duration": 204,
    "start_time": "2025-04-16T02:52:26.402Z"
   },
   {
    "duration": 6988,
    "start_time": "2025-04-16T02:52:26.608Z"
   },
   {
    "duration": 607,
    "start_time": "2025-04-16T02:52:33.597Z"
   },
   {
    "duration": 84,
    "start_time": "2025-04-16T02:52:34.206Z"
   },
   {
    "duration": 23,
    "start_time": "2025-04-16T02:52:34.292Z"
   },
   {
    "duration": 36,
    "start_time": "2025-04-16T02:52:34.317Z"
   },
   {
    "duration": 48455,
    "start_time": "2025-04-16T02:52:34.355Z"
   },
   {
    "duration": 7,
    "start_time": "2025-04-16T02:53:22.812Z"
   },
   {
    "duration": 301,
    "start_time": "2025-04-16T02:53:22.820Z"
   },
   {
    "duration": 283,
    "start_time": "2025-04-16T02:53:23.123Z"
   },
   {
    "duration": 98,
    "start_time": "2025-04-16T02:53:23.408Z"
   }
  ],
  "kernelspec": {
   "display_name": "Python 3 (ipykernel)",
   "language": "python",
   "name": "python3"
  },
  "language_info": {
   "codemirror_mode": {
    "name": "ipython",
    "version": 3
   },
   "file_extension": ".py",
   "mimetype": "text/x-python",
   "name": "python",
   "nbconvert_exporter": "python",
   "pygments_lexer": "ipython3",
   "version": "3.9.19"
  },
  "toc": {
   "base_numbering": 1,
   "nav_menu": {},
   "number_sections": true,
   "sideBar": true,
   "skip_h1_title": true,
   "title_cell": "Table of Contents",
   "title_sidebar": "Contents",
   "toc_cell": false,
   "toc_position": {},
   "toc_section_display": true,
   "toc_window_display": false
  }
 },
 "nbformat": 4,
 "nbformat_minor": 2
}
